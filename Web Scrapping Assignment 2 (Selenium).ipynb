{
 "cells": [
  {
   "cell_type": "code",
   "execution_count": 1,
   "metadata": {},
   "outputs": [],
   "source": [
    "# Lets now import all the required library\n",
    "import selenium\n",
    "import pandas as pd\n",
    "from selenium import webdriver"
   ]
  },
  {
   "cell_type": "raw",
   "metadata": {},
   "source": [
    "Q1: Write a python program to scrape data for “Data Analyst” Job position in\n",
    "“Bangalore” location. You have to scrape the job-title, job-location, company_name,\n",
    "experience_required. You have to scrape first 10 jobs data.\n",
    "\n"
   ]
  },
  {
   "cell_type": "code",
   "execution_count": 2,
   "metadata": {},
   "outputs": [],
   "source": [
    "# link to download web driver\n",
    "# chromedriver .chromium.org/downloads"
   ]
  },
  {
   "cell_type": "code",
   "execution_count": 3,
   "metadata": {},
   "outputs": [],
   "source": [
    "# lets firts connect to web driver\n",
    "driver=webdriver.Chrome(r'D:\\Datatrained\\Flip Robo Intership\\Web Scrapping\\Web Driver\\chromedriver_win32\\chromedriver.exe')"
   ]
  },
  {
   "cell_type": "code",
   "execution_count": 4,
   "metadata": {},
   "outputs": [],
   "source": [
    "url='https://www.naukri.com/'\n",
    "driver.get(url)"
   ]
  },
  {
   "cell_type": "code",
   "execution_count": 5,
   "metadata": {},
   "outputs": [
    {
     "data": {
      "text/plain": [
       "<selenium.webdriver.remote.webelement.WebElement (session=\"84b112a4dd2b1565bd270f5a87e43657\", element=\"edb788eb-5e02-49d7-a6b1-b935154a390c\")>"
      ]
     },
     "execution_count": 5,
     "metadata": {},
     "output_type": "execute_result"
    }
   ],
   "source": [
    "search_job=driver.find_element_by_id('qsb-keyword-sugg')\n",
    "search_job"
   ]
  },
  {
   "cell_type": "code",
   "execution_count": 6,
   "metadata": {},
   "outputs": [],
   "source": [
    "# write on search bar\n",
    "search_job.send_keys(\"Data Analyst\")"
   ]
  },
  {
   "cell_type": "code",
   "execution_count": 7,
   "metadata": {},
   "outputs": [],
   "source": [
    "serach_loc=driver.find_element_by_id('qsb-location-sugg')\n",
    "serach_loc\n",
    "serach_loc.send_keys('Bangalore')"
   ]
  },
  {
   "cell_type": "code",
   "execution_count": 8,
   "metadata": {},
   "outputs": [],
   "source": [
    "# do click using Xpath function\n",
    "search_btn=driver.find_element_by_xpath(\"//button[@class='btn']\")\n",
    "search_btn.click()"
   ]
  },
  {
   "cell_type": "code",
   "execution_count": 9,
   "metadata": {},
   "outputs": [
    {
     "data": {
      "text/plain": [
       "[<selenium.webdriver.remote.webelement.WebElement (session=\"84b112a4dd2b1565bd270f5a87e43657\", element=\"cfd42eb7-b723-44b5-be07-6030ab910d68\")>,\n",
       " <selenium.webdriver.remote.webelement.WebElement (session=\"84b112a4dd2b1565bd270f5a87e43657\", element=\"2f14947b-9683-4c61-a268-f75539e5c1c1\")>,\n",
       " <selenium.webdriver.remote.webelement.WebElement (session=\"84b112a4dd2b1565bd270f5a87e43657\", element=\"d81482b3-d0a1-44df-80a6-ada5fdef4ad4\")>,\n",
       " <selenium.webdriver.remote.webelement.WebElement (session=\"84b112a4dd2b1565bd270f5a87e43657\", element=\"d119cb47-c755-446c-9509-a549e5a21ddf\")>,\n",
       " <selenium.webdriver.remote.webelement.WebElement (session=\"84b112a4dd2b1565bd270f5a87e43657\", element=\"5c5fc854-4518-4241-b70c-c3282365fd2c\")>,\n",
       " <selenium.webdriver.remote.webelement.WebElement (session=\"84b112a4dd2b1565bd270f5a87e43657\", element=\"f5f2aa06-7526-4b8c-bd4b-5f1b5c195697\")>,\n",
       " <selenium.webdriver.remote.webelement.WebElement (session=\"84b112a4dd2b1565bd270f5a87e43657\", element=\"78dc2295-3d3a-4d6f-adcd-ee1749f0f950\")>,\n",
       " <selenium.webdriver.remote.webelement.WebElement (session=\"84b112a4dd2b1565bd270f5a87e43657\", element=\"e079500c-6666-4105-b717-a604e39b8aba\")>,\n",
       " <selenium.webdriver.remote.webelement.WebElement (session=\"84b112a4dd2b1565bd270f5a87e43657\", element=\"57e1bd0c-a9fc-43aa-b7b0-85509c9c55d0\")>,\n",
       " <selenium.webdriver.remote.webelement.WebElement (session=\"84b112a4dd2b1565bd270f5a87e43657\", element=\"9e7fa50b-b5b1-4b60-8677-303ce534f1ab\")>,\n",
       " <selenium.webdriver.remote.webelement.WebElement (session=\"84b112a4dd2b1565bd270f5a87e43657\", element=\"cd1e56be-cdb0-45f2-b810-2a7ca83b9980\")>,\n",
       " <selenium.webdriver.remote.webelement.WebElement (session=\"84b112a4dd2b1565bd270f5a87e43657\", element=\"5bc7ef57-d713-47da-bd4d-9b3966872499\")>,\n",
       " <selenium.webdriver.remote.webelement.WebElement (session=\"84b112a4dd2b1565bd270f5a87e43657\", element=\"03659e15-d5fa-4a88-b891-b0155ae5ab3c\")>,\n",
       " <selenium.webdriver.remote.webelement.WebElement (session=\"84b112a4dd2b1565bd270f5a87e43657\", element=\"c37e5fb3-be86-46c5-a35e-ef6f9620280d\")>,\n",
       " <selenium.webdriver.remote.webelement.WebElement (session=\"84b112a4dd2b1565bd270f5a87e43657\", element=\"9e65ea3f-d9c1-4386-9fce-e3bd1feb5f41\")>,\n",
       " <selenium.webdriver.remote.webelement.WebElement (session=\"84b112a4dd2b1565bd270f5a87e43657\", element=\"acddfbef-cb27-4f43-8e3e-c9f1d3227f1f\")>,\n",
       " <selenium.webdriver.remote.webelement.WebElement (session=\"84b112a4dd2b1565bd270f5a87e43657\", element=\"b5f1d243-9660-4c58-a55a-8b747b8e169e\")>,\n",
       " <selenium.webdriver.remote.webelement.WebElement (session=\"84b112a4dd2b1565bd270f5a87e43657\", element=\"242b8b4e-91d7-4249-8cc5-8723478c8cd7\")>,\n",
       " <selenium.webdriver.remote.webelement.WebElement (session=\"84b112a4dd2b1565bd270f5a87e43657\", element=\"288337cf-04da-472f-b380-1e99e92ce8a8\")>,\n",
       " <selenium.webdriver.remote.webelement.WebElement (session=\"84b112a4dd2b1565bd270f5a87e43657\", element=\"8a458094-b3a8-404e-b977-6264719ad2b6\")>]"
      ]
     },
     "execution_count": 9,
     "metadata": {},
     "output_type": "execute_result"
    }
   ],
   "source": [
    "# Lets extract all the tags having experience required data.Let me first show you in which tags this data is put on the webpage\n",
    "experience_tags=driver.find_elements_by_xpath(\"//li[@class='fleft grey-text br2 placeHolderLi experience']//span\")\n",
    "experience_tags"
   ]
  },
  {
   "cell_type": "code",
   "execution_count": 10,
   "metadata": {},
   "outputs": [
    {
     "data": {
      "text/plain": [
       "['0-3 Yrs',\n",
       " '0-2 Yrs',\n",
       " '4-7 Yrs',\n",
       " '4-5 Yrs',\n",
       " '3-5 Yrs',\n",
       " '5-6 Yrs',\n",
       " '0-4 Yrs',\n",
       " '5-10 Yrs',\n",
       " '5-8 Yrs',\n",
       " '4-9 Yrs',\n",
       " '2-3 Yrs',\n",
       " '7-10 Yrs',\n",
       " '5-9 Yrs',\n",
       " '6-8 Yrs',\n",
       " '1-7 Yrs',\n",
       " '2-5 Yrs',\n",
       " '4-6 Yrs',\n",
       " '1-3 Yrs',\n",
       " '2-5 Yrs',\n",
       " '4-6 Yrs']"
      ]
     },
     "execution_count": 10,
     "metadata": {},
     "output_type": "execute_result"
    }
   ],
   "source": [
    "experience=[]\n",
    "\n",
    "for i in experience_tags:\n",
    "    experience.append(i.text)\n",
    "experience"
   ]
  },
  {
   "cell_type": "code",
   "execution_count": 11,
   "metadata": {},
   "outputs": [
    {
     "data": {
      "text/plain": [
       "[<selenium.webdriver.remote.webelement.WebElement (session=\"84b112a4dd2b1565bd270f5a87e43657\", element=\"ce5e3ce0-e318-41cc-86dc-b90d9de9e9f2\")>,\n",
       " <selenium.webdriver.remote.webelement.WebElement (session=\"84b112a4dd2b1565bd270f5a87e43657\", element=\"d8305a89-e558-44b2-974d-f576a6f9b216\")>,\n",
       " <selenium.webdriver.remote.webelement.WebElement (session=\"84b112a4dd2b1565bd270f5a87e43657\", element=\"45ac7bc3-9c80-4bdc-9e97-278b3d6cfb8f\")>,\n",
       " <selenium.webdriver.remote.webelement.WebElement (session=\"84b112a4dd2b1565bd270f5a87e43657\", element=\"21280001-61e7-480a-b544-bab8dc853666\")>,\n",
       " <selenium.webdriver.remote.webelement.WebElement (session=\"84b112a4dd2b1565bd270f5a87e43657\", element=\"6f14ab41-00f1-4806-8581-1ef8566fe5b1\")>,\n",
       " <selenium.webdriver.remote.webelement.WebElement (session=\"84b112a4dd2b1565bd270f5a87e43657\", element=\"10df4a05-db67-4d08-bc3e-6813d2861ccf\")>,\n",
       " <selenium.webdriver.remote.webelement.WebElement (session=\"84b112a4dd2b1565bd270f5a87e43657\", element=\"cb732248-88d0-4e56-a860-1dd70b66487b\")>,\n",
       " <selenium.webdriver.remote.webelement.WebElement (session=\"84b112a4dd2b1565bd270f5a87e43657\", element=\"6f4a8bb3-e66c-4893-8609-d9e7a980df36\")>,\n",
       " <selenium.webdriver.remote.webelement.WebElement (session=\"84b112a4dd2b1565bd270f5a87e43657\", element=\"165d4261-0e3d-4731-a3f4-a26c67e8107f\")>,\n",
       " <selenium.webdriver.remote.webelement.WebElement (session=\"84b112a4dd2b1565bd270f5a87e43657\", element=\"1d255d73-df81-4bb6-aff3-db8029ed9716\")>,\n",
       " <selenium.webdriver.remote.webelement.WebElement (session=\"84b112a4dd2b1565bd270f5a87e43657\", element=\"87248b04-06c5-42e2-bdf4-b329fd6be778\")>,\n",
       " <selenium.webdriver.remote.webelement.WebElement (session=\"84b112a4dd2b1565bd270f5a87e43657\", element=\"72d2e41a-4ac9-462b-aa17-65788ec22ba6\")>,\n",
       " <selenium.webdriver.remote.webelement.WebElement (session=\"84b112a4dd2b1565bd270f5a87e43657\", element=\"6e3faad1-3622-4100-9f33-ad2539e14ebb\")>,\n",
       " <selenium.webdriver.remote.webelement.WebElement (session=\"84b112a4dd2b1565bd270f5a87e43657\", element=\"300bb634-2356-4c1d-992a-01a99916844e\")>,\n",
       " <selenium.webdriver.remote.webelement.WebElement (session=\"84b112a4dd2b1565bd270f5a87e43657\", element=\"bbde2058-182e-47a6-812e-d3da381f5427\")>,\n",
       " <selenium.webdriver.remote.webelement.WebElement (session=\"84b112a4dd2b1565bd270f5a87e43657\", element=\"e1040674-137b-46f6-beec-216b389502c6\")>,\n",
       " <selenium.webdriver.remote.webelement.WebElement (session=\"84b112a4dd2b1565bd270f5a87e43657\", element=\"5c71afae-fb75-43e0-923d-29c1e36305a8\")>,\n",
       " <selenium.webdriver.remote.webelement.WebElement (session=\"84b112a4dd2b1565bd270f5a87e43657\", element=\"12a80fe9-7f28-4d71-9890-9fd307e34066\")>,\n",
       " <selenium.webdriver.remote.webelement.WebElement (session=\"84b112a4dd2b1565bd270f5a87e43657\", element=\"b29e9c7b-4a62-486a-ab0e-610310ad1487\")>,\n",
       " <selenium.webdriver.remote.webelement.WebElement (session=\"84b112a4dd2b1565bd270f5a87e43657\", element=\"a5150c8b-f62c-46a3-80ea-522814a8d572\")>]"
      ]
     },
     "execution_count": 11,
     "metadata": {},
     "output_type": "execute_result"
    }
   ],
   "source": [
    "# Lets extract all the tags having location required data.Let me first show you in which tags this data is put on the webpage\n",
    "Location=driver.find_elements_by_xpath(\"//li[@class='fleft grey-text br2 placeHolderLi location']//span\")\n",
    "Location"
   ]
  },
  {
   "cell_type": "code",
   "execution_count": 12,
   "metadata": {},
   "outputs": [
    {
     "data": {
      "text/plain": [
       "['Hyderabad/Secunderabad, Chennai, Bangalore/Bengaluru',\n",
       " 'Bangalore/Bengaluru',\n",
       " 'Bangalore/Bengaluru',\n",
       " 'Bangalore/Bengaluru',\n",
       " 'Bangalore/Bengaluru',\n",
       " 'Bengaluru/Bangalore',\n",
       " 'Bangalore/Bengaluru',\n",
       " 'Bangalore/Bengaluru',\n",
       " 'Bangalore/Bengaluru(2nd Phase JP Nagar)',\n",
       " 'Bangalore/Bengaluru',\n",
       " 'Bangalore/Bengaluru',\n",
       " 'Bangalore/Bengaluru',\n",
       " 'Bangalore/Bengaluru',\n",
       " 'Bangalore/Bengaluru',\n",
       " 'Bangalore/Bengaluru',\n",
       " 'Bangalore/Bengaluru',\n",
       " 'Bangalore/Bengaluru',\n",
       " 'Bangalore/Bengaluru',\n",
       " 'Bangalore/Bengaluru',\n",
       " 'Bangalore/Bengaluru']"
      ]
     },
     "execution_count": 12,
     "metadata": {},
     "output_type": "execute_result"
    }
   ],
   "source": [
    "job_location=[]\n",
    "\n",
    "for i in Location:\n",
    "    job_location.append(i.text)\n",
    "job_location"
   ]
  },
  {
   "cell_type": "code",
   "execution_count": 13,
   "metadata": {},
   "outputs": [
    {
     "data": {
      "text/plain": [
       "[<selenium.webdriver.remote.webelement.WebElement (session=\"84b112a4dd2b1565bd270f5a87e43657\", element=\"e071aeb5-74ec-416a-b91b-2c3d08156f13\")>,\n",
       " <selenium.webdriver.remote.webelement.WebElement (session=\"84b112a4dd2b1565bd270f5a87e43657\", element=\"985b777d-3767-4bc3-a4cc-6f596461141f\")>,\n",
       " <selenium.webdriver.remote.webelement.WebElement (session=\"84b112a4dd2b1565bd270f5a87e43657\", element=\"14e60d59-30ff-4147-bb34-a43f0fb6e7d2\")>,\n",
       " <selenium.webdriver.remote.webelement.WebElement (session=\"84b112a4dd2b1565bd270f5a87e43657\", element=\"a34b9903-8239-4dc3-8975-4685b48a931d\")>,\n",
       " <selenium.webdriver.remote.webelement.WebElement (session=\"84b112a4dd2b1565bd270f5a87e43657\", element=\"89512e4c-a922-4fd5-b8f5-58c17ccf1f5e\")>,\n",
       " <selenium.webdriver.remote.webelement.WebElement (session=\"84b112a4dd2b1565bd270f5a87e43657\", element=\"2e2c5c5c-4325-4601-bdbd-e62c50fb58f4\")>,\n",
       " <selenium.webdriver.remote.webelement.WebElement (session=\"84b112a4dd2b1565bd270f5a87e43657\", element=\"78c5c686-aade-445d-87a4-9d90b165bab9\")>,\n",
       " <selenium.webdriver.remote.webelement.WebElement (session=\"84b112a4dd2b1565bd270f5a87e43657\", element=\"652a5ffd-9546-4a19-b1bb-41f809100481\")>,\n",
       " <selenium.webdriver.remote.webelement.WebElement (session=\"84b112a4dd2b1565bd270f5a87e43657\", element=\"a65a23ac-d61b-420d-b9d7-73385078323b\")>,\n",
       " <selenium.webdriver.remote.webelement.WebElement (session=\"84b112a4dd2b1565bd270f5a87e43657\", element=\"7720b1c9-7ce7-4a3b-8d7d-cbbd6c383097\")>,\n",
       " <selenium.webdriver.remote.webelement.WebElement (session=\"84b112a4dd2b1565bd270f5a87e43657\", element=\"60630fb4-48b7-4d86-b211-dc0b2d60b80a\")>,\n",
       " <selenium.webdriver.remote.webelement.WebElement (session=\"84b112a4dd2b1565bd270f5a87e43657\", element=\"a101c187-0753-4409-966b-8ad9902b305d\")>,\n",
       " <selenium.webdriver.remote.webelement.WebElement (session=\"84b112a4dd2b1565bd270f5a87e43657\", element=\"c3222847-60cf-44b8-a8bc-9e4a9277cfef\")>,\n",
       " <selenium.webdriver.remote.webelement.WebElement (session=\"84b112a4dd2b1565bd270f5a87e43657\", element=\"2a17f734-7c3d-43cc-9d38-48985922c64f\")>,\n",
       " <selenium.webdriver.remote.webelement.WebElement (session=\"84b112a4dd2b1565bd270f5a87e43657\", element=\"4c78d092-382f-403a-b143-8f5b0a47b57c\")>,\n",
       " <selenium.webdriver.remote.webelement.WebElement (session=\"84b112a4dd2b1565bd270f5a87e43657\", element=\"1232f0de-f2a4-4f62-9a28-38b570f62791\")>,\n",
       " <selenium.webdriver.remote.webelement.WebElement (session=\"84b112a4dd2b1565bd270f5a87e43657\", element=\"b6af7a2e-98b3-41a9-a653-3a2250d95f3f\")>,\n",
       " <selenium.webdriver.remote.webelement.WebElement (session=\"84b112a4dd2b1565bd270f5a87e43657\", element=\"aa061ca9-a796-4cec-a677-3895cf1efd08\")>,\n",
       " <selenium.webdriver.remote.webelement.WebElement (session=\"84b112a4dd2b1565bd270f5a87e43657\", element=\"abee6226-c821-4cbf-81b6-699be60092af\")>,\n",
       " <selenium.webdriver.remote.webelement.WebElement (session=\"84b112a4dd2b1565bd270f5a87e43657\", element=\"65574563-3075-4299-a6de-b5ea0bb2322c\")>]"
      ]
     },
     "execution_count": 13,
     "metadata": {},
     "output_type": "execute_result"
    }
   ],
   "source": [
    "# Lets extract all the tags having Company required data.Let me first show you in which tags this data is put on the webpage\n",
    "\n",
    "Company=driver.find_elements_by_xpath(\"//div[@class='mt-7 companyInfo subheading lh16']\")\n",
    "Company"
   ]
  },
  {
   "cell_type": "code",
   "execution_count": 14,
   "metadata": {},
   "outputs": [
    {
     "data": {
      "text/plain": [
       "['Inflexion Analytix Private Limited',\n",
       " 'Dell International Services India Private Limited\\n4.0\\n(1760 Reviews)',\n",
       " 'Cognizant Technology Solutions India Pvt Ltd\\n3.8\\n(16379 Reviews)',\n",
       " 'Flipkart Internet Private Limited\\n4.2\\n(3360 Reviews)',\n",
       " 'IBM India Pvt. Limited\\n4.0\\n(9929 Reviews)',\n",
       " 'IBM India Pvt. Limited\\n4.0\\n(9929 Reviews)',\n",
       " 'Zilingo.com\\n3.1\\n(11 Reviews)',\n",
       " 'Tech Mahindra Ltd.\\n3.6\\n(11475 Reviews)',\n",
       " 'Liventus, Inc.\\n4.2\\n(6 Reviews)',\n",
       " 'Superior Group\\n4.6\\n(14 Reviews)',\n",
       " 'Innovsource Services Private Limited\\n4.2\\n(641 Reviews)',\n",
       " 'Applied Materials\\n4.0\\n(98 Reviews)',\n",
       " 'Publicis Groupe\\n3.3\\n(64 Reviews)',\n",
       " 'Publicis Groupe\\n3.3\\n(64 Reviews)',\n",
       " 'Publicis Groupe\\n3.3\\n(64 Reviews)',\n",
       " 'Flipkart Internet Private Limited\\n4.2\\n(3360 Reviews)',\n",
       " 'Sapient\\n3.8\\n(853 Reviews)',\n",
       " 'Publicis Groupe\\n3.3\\n(64 Reviews)',\n",
       " 'Naukri Premium - Employer Services',\n",
       " 'Brillio\\n3.2\\n(215 Reviews)']"
      ]
     },
     "execution_count": 14,
     "metadata": {},
     "output_type": "execute_result"
    }
   ],
   "source": [
    "company_name=[]\n",
    "\n",
    "for i in Company:\n",
    "    company_name.append(i.text)\n",
    "company_name"
   ]
  },
  {
   "cell_type": "code",
   "execution_count": 15,
   "metadata": {},
   "outputs": [
    {
     "data": {
      "text/plain": [
       "[<selenium.webdriver.remote.webelement.WebElement (session=\"84b112a4dd2b1565bd270f5a87e43657\", element=\"730b00db-9a5e-4a09-b16c-b2cc4567be60\")>,\n",
       " <selenium.webdriver.remote.webelement.WebElement (session=\"84b112a4dd2b1565bd270f5a87e43657\", element=\"1682c4e1-e0b9-4a5e-9bf4-badd509b4740\")>,\n",
       " <selenium.webdriver.remote.webelement.WebElement (session=\"84b112a4dd2b1565bd270f5a87e43657\", element=\"44dedc6a-248e-430d-9bdd-dbca052fe542\")>,\n",
       " <selenium.webdriver.remote.webelement.WebElement (session=\"84b112a4dd2b1565bd270f5a87e43657\", element=\"152fd435-5f55-4d31-8652-7dbe87150731\")>,\n",
       " <selenium.webdriver.remote.webelement.WebElement (session=\"84b112a4dd2b1565bd270f5a87e43657\", element=\"3eb67e5d-cb7d-476d-9f39-44f56fc9dcf9\")>,\n",
       " <selenium.webdriver.remote.webelement.WebElement (session=\"84b112a4dd2b1565bd270f5a87e43657\", element=\"fd789106-e15d-4fc3-b422-a46a2fe45198\")>,\n",
       " <selenium.webdriver.remote.webelement.WebElement (session=\"84b112a4dd2b1565bd270f5a87e43657\", element=\"c0b48b29-f430-4c3e-912a-a58f0d888c44\")>,\n",
       " <selenium.webdriver.remote.webelement.WebElement (session=\"84b112a4dd2b1565bd270f5a87e43657\", element=\"b9f6e4c9-b15d-44e0-8257-4da32da434a6\")>,\n",
       " <selenium.webdriver.remote.webelement.WebElement (session=\"84b112a4dd2b1565bd270f5a87e43657\", element=\"c0f9c91b-cc75-4d43-a32b-44a81f804566\")>,\n",
       " <selenium.webdriver.remote.webelement.WebElement (session=\"84b112a4dd2b1565bd270f5a87e43657\", element=\"a59949fe-3889-4e20-bb2f-f490c2850a61\")>,\n",
       " <selenium.webdriver.remote.webelement.WebElement (session=\"84b112a4dd2b1565bd270f5a87e43657\", element=\"de0f922f-05c4-4d8b-992e-39a1d888f988\")>,\n",
       " <selenium.webdriver.remote.webelement.WebElement (session=\"84b112a4dd2b1565bd270f5a87e43657\", element=\"13d3493f-4c81-47cb-98e9-4898b10ae277\")>,\n",
       " <selenium.webdriver.remote.webelement.WebElement (session=\"84b112a4dd2b1565bd270f5a87e43657\", element=\"ff1dd0c5-810e-48eb-bd1c-30091f14302b\")>,\n",
       " <selenium.webdriver.remote.webelement.WebElement (session=\"84b112a4dd2b1565bd270f5a87e43657\", element=\"4934cdd1-7097-4549-8e0e-0033720a9616\")>,\n",
       " <selenium.webdriver.remote.webelement.WebElement (session=\"84b112a4dd2b1565bd270f5a87e43657\", element=\"2d97a66c-31a4-4542-b5a2-d2ad2d703fab\")>,\n",
       " <selenium.webdriver.remote.webelement.WebElement (session=\"84b112a4dd2b1565bd270f5a87e43657\", element=\"8ec0dc92-a7ce-48e4-82c4-294fe0dac6e4\")>,\n",
       " <selenium.webdriver.remote.webelement.WebElement (session=\"84b112a4dd2b1565bd270f5a87e43657\", element=\"781bcf9f-0c4f-4b93-bf9c-50453955ac39\")>,\n",
       " <selenium.webdriver.remote.webelement.WebElement (session=\"84b112a4dd2b1565bd270f5a87e43657\", element=\"8d6caa78-57da-4700-9e0b-aafd3b6b8be0\")>,\n",
       " <selenium.webdriver.remote.webelement.WebElement (session=\"84b112a4dd2b1565bd270f5a87e43657\", element=\"cfaad1a5-fdb5-4200-b2a1-f946e69b5c4d\")>,\n",
       " <selenium.webdriver.remote.webelement.WebElement (session=\"84b112a4dd2b1565bd270f5a87e43657\", element=\"0c50075a-5d75-4b28-938e-0dba86af2c85\")>]"
      ]
     },
     "execution_count": 15,
     "metadata": {},
     "output_type": "execute_result"
    }
   ],
   "source": [
    "# Lets extract all the tags having experience required data.Let me first show you in which tags this data is put on the webpage\n",
    "Job=driver.find_elements_by_xpath(\"//a[@class='title fw500 ellipsis']\")\n",
    "Job"
   ]
  },
  {
   "cell_type": "code",
   "execution_count": 16,
   "metadata": {},
   "outputs": [
    {
     "data": {
      "text/plain": [
       "['Data Scientist / Data Analyst -Business Analyst',\n",
       " 'Network Design & Data Analyst',\n",
       " 'Senior Security Specialist - CS Awareness & Data Analyst',\n",
       " 'Senior Data Analyst',\n",
       " 'Data analysts',\n",
       " 'Data analysts',\n",
       " 'Data Analyst',\n",
       " 'Data Analyst (Data Stewards)//Immediate Joiners//Bangalore',\n",
       " 'Senior Data Analyst',\n",
       " 'Data Analyst',\n",
       " 'Consultant-Data Analyst -Bangalore',\n",
       " 'Data Analyst',\n",
       " 'Senior Data Analyst',\n",
       " 'Senior Data Analyst',\n",
       " 'Senior Data Analyst',\n",
       " 'Senior Data Analyst',\n",
       " 'Senior Associate - Data Analyst',\n",
       " 'Senior Associate - Data Analyst',\n",
       " 'Data Analyst / Sr. Data Analyst - SQL',\n",
       " 'Data Analyst-Immediate Joiners']"
      ]
     },
     "execution_count": 16,
     "metadata": {},
     "output_type": "execute_result"
    }
   ],
   "source": [
    "job_title=[]\n",
    "\n",
    "for i in Job:\n",
    "    job_title.append(i.text)\n",
    "job_title"
   ]
  },
  {
   "cell_type": "code",
   "execution_count": 17,
   "metadata": {},
   "outputs": [
    {
     "data": {
      "text/html": [
       "<div>\n",
       "<style scoped>\n",
       "    .dataframe tbody tr th:only-of-type {\n",
       "        vertical-align: middle;\n",
       "    }\n",
       "\n",
       "    .dataframe tbody tr th {\n",
       "        vertical-align: top;\n",
       "    }\n",
       "\n",
       "    .dataframe thead th {\n",
       "        text-align: right;\n",
       "    }\n",
       "</style>\n",
       "<table border=\"1\" class=\"dataframe\">\n",
       "  <thead>\n",
       "    <tr style=\"text-align: right;\">\n",
       "      <th></th>\n",
       "      <th>job_title</th>\n",
       "      <th>job_location</th>\n",
       "      <th>company_name</th>\n",
       "      <th>experience</th>\n",
       "    </tr>\n",
       "  </thead>\n",
       "  <tbody>\n",
       "    <tr>\n",
       "      <th>0</th>\n",
       "      <td>Data Scientist / Data Analyst -Business Analyst</td>\n",
       "      <td>Hyderabad/Secunderabad, Chennai, Bangalore/Ben...</td>\n",
       "      <td>Inflexion Analytix Private Limited</td>\n",
       "      <td>0-3 Yrs</td>\n",
       "    </tr>\n",
       "    <tr>\n",
       "      <th>1</th>\n",
       "      <td>Network Design &amp; Data Analyst</td>\n",
       "      <td>Bangalore/Bengaluru</td>\n",
       "      <td>Dell International Services India Private Limi...</td>\n",
       "      <td>0-2 Yrs</td>\n",
       "    </tr>\n",
       "    <tr>\n",
       "      <th>2</th>\n",
       "      <td>Senior Security Specialist - CS Awareness &amp; Da...</td>\n",
       "      <td>Bangalore/Bengaluru</td>\n",
       "      <td>Cognizant Technology Solutions India Pvt Ltd\\n...</td>\n",
       "      <td>4-7 Yrs</td>\n",
       "    </tr>\n",
       "    <tr>\n",
       "      <th>3</th>\n",
       "      <td>Senior Data Analyst</td>\n",
       "      <td>Bangalore/Bengaluru</td>\n",
       "      <td>Flipkart Internet Private Limited\\n4.2\\n(3360 ...</td>\n",
       "      <td>4-5 Yrs</td>\n",
       "    </tr>\n",
       "    <tr>\n",
       "      <th>4</th>\n",
       "      <td>Data analysts</td>\n",
       "      <td>Bangalore/Bengaluru</td>\n",
       "      <td>IBM India Pvt. Limited\\n4.0\\n(9929 Reviews)</td>\n",
       "      <td>3-5 Yrs</td>\n",
       "    </tr>\n",
       "    <tr>\n",
       "      <th>5</th>\n",
       "      <td>Data analysts</td>\n",
       "      <td>Bengaluru/Bangalore</td>\n",
       "      <td>IBM India Pvt. Limited\\n4.0\\n(9929 Reviews)</td>\n",
       "      <td>5-6 Yrs</td>\n",
       "    </tr>\n",
       "    <tr>\n",
       "      <th>6</th>\n",
       "      <td>Data Analyst</td>\n",
       "      <td>Bangalore/Bengaluru</td>\n",
       "      <td>Zilingo.com\\n3.1\\n(11 Reviews)</td>\n",
       "      <td>0-4 Yrs</td>\n",
       "    </tr>\n",
       "    <tr>\n",
       "      <th>7</th>\n",
       "      <td>Data Analyst (Data Stewards)//Immediate Joiner...</td>\n",
       "      <td>Bangalore/Bengaluru</td>\n",
       "      <td>Tech Mahindra Ltd.\\n3.6\\n(11475 Reviews)</td>\n",
       "      <td>5-10 Yrs</td>\n",
       "    </tr>\n",
       "    <tr>\n",
       "      <th>8</th>\n",
       "      <td>Senior Data Analyst</td>\n",
       "      <td>Bangalore/Bengaluru(2nd Phase JP Nagar)</td>\n",
       "      <td>Liventus, Inc.\\n4.2\\n(6 Reviews)</td>\n",
       "      <td>5-8 Yrs</td>\n",
       "    </tr>\n",
       "    <tr>\n",
       "      <th>9</th>\n",
       "      <td>Data Analyst</td>\n",
       "      <td>Bangalore/Bengaluru</td>\n",
       "      <td>Superior Group\\n4.6\\n(14 Reviews)</td>\n",
       "      <td>4-9 Yrs</td>\n",
       "    </tr>\n",
       "  </tbody>\n",
       "</table>\n",
       "</div>"
      ],
      "text/plain": [
       "                                           job_title  \\\n",
       "0    Data Scientist / Data Analyst -Business Analyst   \n",
       "1                      Network Design & Data Analyst   \n",
       "2  Senior Security Specialist - CS Awareness & Da...   \n",
       "3                                Senior Data Analyst   \n",
       "4                                      Data analysts   \n",
       "5                                      Data analysts   \n",
       "6                                       Data Analyst   \n",
       "7  Data Analyst (Data Stewards)//Immediate Joiner...   \n",
       "8                                Senior Data Analyst   \n",
       "9                                       Data Analyst   \n",
       "\n",
       "                                        job_location  \\\n",
       "0  Hyderabad/Secunderabad, Chennai, Bangalore/Ben...   \n",
       "1                                Bangalore/Bengaluru   \n",
       "2                                Bangalore/Bengaluru   \n",
       "3                                Bangalore/Bengaluru   \n",
       "4                                Bangalore/Bengaluru   \n",
       "5                                Bengaluru/Bangalore   \n",
       "6                                Bangalore/Bengaluru   \n",
       "7                                Bangalore/Bengaluru   \n",
       "8            Bangalore/Bengaluru(2nd Phase JP Nagar)   \n",
       "9                                Bangalore/Bengaluru   \n",
       "\n",
       "                                        company_name experience  \n",
       "0                 Inflexion Analytix Private Limited    0-3 Yrs  \n",
       "1  Dell International Services India Private Limi...    0-2 Yrs  \n",
       "2  Cognizant Technology Solutions India Pvt Ltd\\n...    4-7 Yrs  \n",
       "3  Flipkart Internet Private Limited\\n4.2\\n(3360 ...    4-5 Yrs  \n",
       "4        IBM India Pvt. Limited\\n4.0\\n(9929 Reviews)    3-5 Yrs  \n",
       "5        IBM India Pvt. Limited\\n4.0\\n(9929 Reviews)    5-6 Yrs  \n",
       "6                     Zilingo.com\\n3.1\\n(11 Reviews)    0-4 Yrs  \n",
       "7           Tech Mahindra Ltd.\\n3.6\\n(11475 Reviews)   5-10 Yrs  \n",
       "8                   Liventus, Inc.\\n4.2\\n(6 Reviews)    5-8 Yrs  \n",
       "9                  Superior Group\\n4.6\\n(14 Reviews)    4-9 Yrs  "
      ]
     },
     "execution_count": 17,
     "metadata": {},
     "output_type": "execute_result"
    }
   ],
   "source": [
    "df=pd.DataFrame()\n",
    "df['job_title']=job_title\n",
    "df['job_location']=job_location\n",
    "df['company_name']=company_name\n",
    "df['experience']=experience\n",
    "\n",
    "df[:10]"
   ]
  },
  {
   "cell_type": "raw",
   "metadata": {},
   "source": [
    "Q2: Write a python program to scrape data for “Data Scientist” Job position in\n",
    "“Bangalore” location. You have to scrape the job-title, job-location,\n",
    "company_name, full job-description. You have to scrape first 10 jobs data."
   ]
  },
  {
   "cell_type": "code",
   "execution_count": 18,
   "metadata": {},
   "outputs": [],
   "source": [
    "url='https://www.naukri.com/'\n",
    "driver.get(url)"
   ]
  },
  {
   "cell_type": "code",
   "execution_count": 19,
   "metadata": {},
   "outputs": [
    {
     "data": {
      "text/plain": [
       "<selenium.webdriver.remote.webelement.WebElement (session=\"84b112a4dd2b1565bd270f5a87e43657\", element=\"c7c745f8-0924-435d-b432-35d5bc233982\")>"
      ]
     },
     "execution_count": 19,
     "metadata": {},
     "output_type": "execute_result"
    }
   ],
   "source": [
    "search_job=driver.find_element_by_id('qsb-keyword-sugg')\n",
    "search_job"
   ]
  },
  {
   "cell_type": "code",
   "execution_count": 20,
   "metadata": {},
   "outputs": [],
   "source": [
    "# write Data Scientist on search bar\n",
    "search_job.send_keys(\"Data Scientist\")"
   ]
  },
  {
   "cell_type": "code",
   "execution_count": 21,
   "metadata": {},
   "outputs": [],
   "source": [
    "# write location on search bar\n",
    "serach_loc=driver.find_element_by_id('qsb-location-sugg')\n",
    "serach_loc\n",
    "serach_loc.send_keys('Bangalore')"
   ]
  },
  {
   "cell_type": "code",
   "execution_count": 22,
   "metadata": {},
   "outputs": [],
   "source": [
    "# do click using Xpath function\n",
    "search_btn=driver.find_element_by_xpath(\"//button[@class='btn']\")\n",
    "search_btn.click()"
   ]
  },
  {
   "cell_type": "code",
   "execution_count": 23,
   "metadata": {},
   "outputs": [
    {
     "data": {
      "text/plain": [
       "[<selenium.webdriver.remote.webelement.WebElement (session=\"84b112a4dd2b1565bd270f5a87e43657\", element=\"6957ecad-db0d-4d55-8452-781ab9635578\")>,\n",
       " <selenium.webdriver.remote.webelement.WebElement (session=\"84b112a4dd2b1565bd270f5a87e43657\", element=\"05d563e2-6e41-4b21-9f51-031d89a40c50\")>,\n",
       " <selenium.webdriver.remote.webelement.WebElement (session=\"84b112a4dd2b1565bd270f5a87e43657\", element=\"9f04d4bb-dda4-4404-b16a-df1b7661a770\")>,\n",
       " <selenium.webdriver.remote.webelement.WebElement (session=\"84b112a4dd2b1565bd270f5a87e43657\", element=\"d9d8cea9-54e6-4f26-8a7a-5284df26f737\")>,\n",
       " <selenium.webdriver.remote.webelement.WebElement (session=\"84b112a4dd2b1565bd270f5a87e43657\", element=\"5aadaf67-dcbf-47bd-851e-32a37b1bcb1a\")>,\n",
       " <selenium.webdriver.remote.webelement.WebElement (session=\"84b112a4dd2b1565bd270f5a87e43657\", element=\"34805a6f-4b6b-4606-b4a1-463e5ab06bf5\")>,\n",
       " <selenium.webdriver.remote.webelement.WebElement (session=\"84b112a4dd2b1565bd270f5a87e43657\", element=\"0689f7ff-4fd3-4d0d-a0b1-a008ddeb3306\")>,\n",
       " <selenium.webdriver.remote.webelement.WebElement (session=\"84b112a4dd2b1565bd270f5a87e43657\", element=\"204a4543-0b1c-40fb-b4f2-4a78fe906311\")>,\n",
       " <selenium.webdriver.remote.webelement.WebElement (session=\"84b112a4dd2b1565bd270f5a87e43657\", element=\"e3f0c767-8ddd-49c7-ad8c-800be60abf2e\")>,\n",
       " <selenium.webdriver.remote.webelement.WebElement (session=\"84b112a4dd2b1565bd270f5a87e43657\", element=\"96c714f5-70ff-42c6-8e31-f84f162b7ee9\")>,\n",
       " <selenium.webdriver.remote.webelement.WebElement (session=\"84b112a4dd2b1565bd270f5a87e43657\", element=\"dd1b5113-f221-4816-9c16-822129a7b887\")>,\n",
       " <selenium.webdriver.remote.webelement.WebElement (session=\"84b112a4dd2b1565bd270f5a87e43657\", element=\"a41a2727-8257-4911-ae07-1aaa31c3bb55\")>,\n",
       " <selenium.webdriver.remote.webelement.WebElement (session=\"84b112a4dd2b1565bd270f5a87e43657\", element=\"3f0e8633-f8c0-443d-819f-50f3071dcaa7\")>,\n",
       " <selenium.webdriver.remote.webelement.WebElement (session=\"84b112a4dd2b1565bd270f5a87e43657\", element=\"3d91cdec-de6d-4295-8635-ed4e1a723df4\")>,\n",
       " <selenium.webdriver.remote.webelement.WebElement (session=\"84b112a4dd2b1565bd270f5a87e43657\", element=\"4c7e81ee-5228-4477-824a-e299169cf81b\")>,\n",
       " <selenium.webdriver.remote.webelement.WebElement (session=\"84b112a4dd2b1565bd270f5a87e43657\", element=\"38c2baf3-e607-4ad6-b762-da7be04f2221\")>,\n",
       " <selenium.webdriver.remote.webelement.WebElement (session=\"84b112a4dd2b1565bd270f5a87e43657\", element=\"c1889c78-739d-43d3-b07f-bfcc9d26080a\")>,\n",
       " <selenium.webdriver.remote.webelement.WebElement (session=\"84b112a4dd2b1565bd270f5a87e43657\", element=\"56c615b2-1e6e-4942-8578-f7e47cba90c6\")>,\n",
       " <selenium.webdriver.remote.webelement.WebElement (session=\"84b112a4dd2b1565bd270f5a87e43657\", element=\"73665287-910b-4080-8c2a-7aa1b0a9c186\")>,\n",
       " <selenium.webdriver.remote.webelement.WebElement (session=\"84b112a4dd2b1565bd270f5a87e43657\", element=\"e637207f-856e-431e-a5d7-8619eb474e71\")>]"
      ]
     },
     "execution_count": 23,
     "metadata": {},
     "output_type": "execute_result"
    }
   ],
   "source": [
    "# Lets extract all the tags having experience required data.Let me first show you in which tags this data is put on the webpage\n",
    "Job=driver.find_elements_by_xpath(\"//a[@class='title fw500 ellipsis']\")\n",
    "Job"
   ]
  },
  {
   "cell_type": "code",
   "execution_count": 24,
   "metadata": {},
   "outputs": [
    {
     "data": {
      "text/plain": [
       "['Data Scientist / Data Analyst -Business Analyst',\n",
       " 'Senior Data Scientist',\n",
       " 'Senior/Lead Data Scientist - Machine Learning/Deep Learning',\n",
       " 'Senior Data Scientist',\n",
       " 'Senior Data Scientist',\n",
       " 'Lead Data Scientist - Machine Learning/ Data Mining',\n",
       " 'Data Scientist IV',\n",
       " 'Data Scientist',\n",
       " 'Data Scientist',\n",
       " 'Senior Data Scientist',\n",
       " 'Senior Data Scientist',\n",
       " 'Sr Data Scientist',\n",
       " 'Senior Data Scientist',\n",
       " 'Senior Data Scientist',\n",
       " 'Senior Data Scientist',\n",
       " 'Senior Data Scientist',\n",
       " 'Senior Data Scientist',\n",
       " 'Senior Data Scientist',\n",
       " 'Sr Data Scientist, Payments',\n",
       " 'Senior Data Scientist I']"
      ]
     },
     "execution_count": 24,
     "metadata": {},
     "output_type": "execute_result"
    }
   ],
   "source": [
    "job_title=[]\n",
    "\n",
    "for i in Job:\n",
    "    job_title.append(i.text)\n",
    "job_title"
   ]
  },
  {
   "cell_type": "code",
   "execution_count": 45,
   "metadata": {},
   "outputs": [
    {
     "data": {
      "text/plain": [
       "[<selenium.webdriver.remote.webelement.WebElement (session=\"32ae3bfc7963706d761cf8daa87cc05e\", element=\"809dfe15-ccc8-4128-af9f-de028a448355\")>,\n",
       " <selenium.webdriver.remote.webelement.WebElement (session=\"32ae3bfc7963706d761cf8daa87cc05e\", element=\"b27183c6-ca3c-43f3-8fd1-baa98515e732\")>,\n",
       " <selenium.webdriver.remote.webelement.WebElement (session=\"32ae3bfc7963706d761cf8daa87cc05e\", element=\"0bc85f4e-fb51-40c6-bef1-26f39160892a\")>,\n",
       " <selenium.webdriver.remote.webelement.WebElement (session=\"32ae3bfc7963706d761cf8daa87cc05e\", element=\"f517efad-c754-40ca-8720-b5790ec581fc\")>,\n",
       " <selenium.webdriver.remote.webelement.WebElement (session=\"32ae3bfc7963706d761cf8daa87cc05e\", element=\"ed130523-5eb0-40fa-861f-a26ed82eacb2\")>,\n",
       " <selenium.webdriver.remote.webelement.WebElement (session=\"32ae3bfc7963706d761cf8daa87cc05e\", element=\"350357bc-effa-4e07-a4e2-51cbad3f0f41\")>,\n",
       " <selenium.webdriver.remote.webelement.WebElement (session=\"32ae3bfc7963706d761cf8daa87cc05e\", element=\"1e6c07cc-e3f5-41f5-ac4a-7678bb61869a\")>,\n",
       " <selenium.webdriver.remote.webelement.WebElement (session=\"32ae3bfc7963706d761cf8daa87cc05e\", element=\"a4398606-6b58-4f51-886f-75f66011c9a8\")>,\n",
       " <selenium.webdriver.remote.webelement.WebElement (session=\"32ae3bfc7963706d761cf8daa87cc05e\", element=\"ecbafa8f-0f92-4c8e-873c-e072aad97ab8\")>,\n",
       " <selenium.webdriver.remote.webelement.WebElement (session=\"32ae3bfc7963706d761cf8daa87cc05e\", element=\"1c346581-e164-4498-9857-0c3b3ab79e42\")>,\n",
       " <selenium.webdriver.remote.webelement.WebElement (session=\"32ae3bfc7963706d761cf8daa87cc05e\", element=\"bbf7b603-5476-4655-b051-3d3164786db8\")>,\n",
       " <selenium.webdriver.remote.webelement.WebElement (session=\"32ae3bfc7963706d761cf8daa87cc05e\", element=\"5822d138-2f41-4dd1-a1ed-d9d3db5bd656\")>,\n",
       " <selenium.webdriver.remote.webelement.WebElement (session=\"32ae3bfc7963706d761cf8daa87cc05e\", element=\"ee6923e2-2ae8-419f-af82-f7d4098b7a7a\")>,\n",
       " <selenium.webdriver.remote.webelement.WebElement (session=\"32ae3bfc7963706d761cf8daa87cc05e\", element=\"61dfdaca-d30d-46aa-ae9f-a5754496e059\")>,\n",
       " <selenium.webdriver.remote.webelement.WebElement (session=\"32ae3bfc7963706d761cf8daa87cc05e\", element=\"a0d273aa-a606-4cca-881d-c874e6d2f0b2\")>,\n",
       " <selenium.webdriver.remote.webelement.WebElement (session=\"32ae3bfc7963706d761cf8daa87cc05e\", element=\"b2dee4ab-0f36-4dbd-a0be-9b20a1ebf3f0\")>,\n",
       " <selenium.webdriver.remote.webelement.WebElement (session=\"32ae3bfc7963706d761cf8daa87cc05e\", element=\"c72e36ad-1ec9-45e9-b456-e664fca44708\")>,\n",
       " <selenium.webdriver.remote.webelement.WebElement (session=\"32ae3bfc7963706d761cf8daa87cc05e\", element=\"15e87fa8-90d7-4b66-9a2e-74c42db7a442\")>,\n",
       " <selenium.webdriver.remote.webelement.WebElement (session=\"32ae3bfc7963706d761cf8daa87cc05e\", element=\"d65dfd0d-9210-4b26-96b5-16a2f4e35234\")>,\n",
       " <selenium.webdriver.remote.webelement.WebElement (session=\"32ae3bfc7963706d761cf8daa87cc05e\", element=\"b3a075c2-0c7d-4347-86fe-0cb9be13529b\")>]"
      ]
     },
     "execution_count": 45,
     "metadata": {},
     "output_type": "execute_result"
    }
   ],
   "source": [
    "# Lets extract all the tags having location required data.Let me first show you in which tags this data is put on the webpage\n",
    "Location=driver.find_elements_by_xpath(\"//li[@class='fleft grey-text br2 placeHolderLi location']//span\")\n",
    "Location"
   ]
  },
  {
   "cell_type": "code",
   "execution_count": 46,
   "metadata": {},
   "outputs": [
    {
     "data": {
      "text/plain": [
       "['Bangalore/Bengaluru',\n",
       " 'Mumbai, Gurgaon/Gurugram, Bangalore/Bengaluru',\n",
       " 'Chennai, Bangalore/Bengaluru, Vadodara',\n",
       " 'Hyderabad/Secunderabad, Bangalore/Bengaluru, Pune',\n",
       " 'Bangalore/Bengaluru',\n",
       " 'Bangalore/Bengaluru',\n",
       " 'Bangalore/Bengaluru',\n",
       " 'Bangalore/Bengaluru',\n",
       " 'Bangalore/Bengaluru',\n",
       " 'Bangalore/Bengaluru',\n",
       " 'Bangalore/Bengaluru',\n",
       " 'Bangalore/Bengaluru',\n",
       " 'Bangalore/Bengaluru',\n",
       " 'Hyderabad/Secunderabad, Chennai, Bangalore/Bengaluru',\n",
       " 'Bangalore/Bengaluru',\n",
       " 'Bangalore/Bengaluru',\n",
       " 'Bangalore/Bengaluru',\n",
       " 'Bangalore/Bengaluru',\n",
       " 'Bangalore/Bengaluru',\n",
       " 'Bangalore/Bengaluru']"
      ]
     },
     "execution_count": 46,
     "metadata": {},
     "output_type": "execute_result"
    }
   ],
   "source": [
    "job_location=[]\n",
    "\n",
    "for i in Location:\n",
    "    job_location.append(i.text)\n",
    "job_location"
   ]
  },
  {
   "cell_type": "code",
   "execution_count": 47,
   "metadata": {},
   "outputs": [
    {
     "data": {
      "text/plain": [
       "[<selenium.webdriver.remote.webelement.WebElement (session=\"32ae3bfc7963706d761cf8daa87cc05e\", element=\"bc8f7bc2-cdff-441f-9cec-7e682562e093\")>,\n",
       " <selenium.webdriver.remote.webelement.WebElement (session=\"32ae3bfc7963706d761cf8daa87cc05e\", element=\"45b111e1-4230-44e4-b40e-459a35a934b0\")>,\n",
       " <selenium.webdriver.remote.webelement.WebElement (session=\"32ae3bfc7963706d761cf8daa87cc05e\", element=\"42cdf249-ed74-4c36-a18c-185f507d0a31\")>,\n",
       " <selenium.webdriver.remote.webelement.WebElement (session=\"32ae3bfc7963706d761cf8daa87cc05e\", element=\"7b62d4af-9f80-4ca1-8d7b-de0c018f1803\")>,\n",
       " <selenium.webdriver.remote.webelement.WebElement (session=\"32ae3bfc7963706d761cf8daa87cc05e\", element=\"c3f761d7-fc7c-4bd1-abcc-e2e88993d6c5\")>,\n",
       " <selenium.webdriver.remote.webelement.WebElement (session=\"32ae3bfc7963706d761cf8daa87cc05e\", element=\"ddff6599-5d89-4abf-927a-8b2cb5ea3433\")>,\n",
       " <selenium.webdriver.remote.webelement.WebElement (session=\"32ae3bfc7963706d761cf8daa87cc05e\", element=\"101cbca3-acd6-4d36-b4a7-ac4afef77cb0\")>,\n",
       " <selenium.webdriver.remote.webelement.WebElement (session=\"32ae3bfc7963706d761cf8daa87cc05e\", element=\"947302d1-d6c0-4725-818b-cb69246f46f1\")>,\n",
       " <selenium.webdriver.remote.webelement.WebElement (session=\"32ae3bfc7963706d761cf8daa87cc05e\", element=\"0181dfd6-d4b9-45a5-b751-96a01fc280dd\")>,\n",
       " <selenium.webdriver.remote.webelement.WebElement (session=\"32ae3bfc7963706d761cf8daa87cc05e\", element=\"f7c1fdd4-83ea-49e5-89e6-538a70dec4a2\")>,\n",
       " <selenium.webdriver.remote.webelement.WebElement (session=\"32ae3bfc7963706d761cf8daa87cc05e\", element=\"c0d7ce97-917f-4230-bb48-f9cdcfdf7a1f\")>,\n",
       " <selenium.webdriver.remote.webelement.WebElement (session=\"32ae3bfc7963706d761cf8daa87cc05e\", element=\"44882181-9677-4015-975e-f51f331f03d7\")>,\n",
       " <selenium.webdriver.remote.webelement.WebElement (session=\"32ae3bfc7963706d761cf8daa87cc05e\", element=\"b8795743-d177-4493-a725-aa12e135be83\")>,\n",
       " <selenium.webdriver.remote.webelement.WebElement (session=\"32ae3bfc7963706d761cf8daa87cc05e\", element=\"1b087a11-75f7-4125-8894-455ceb8beba1\")>,\n",
       " <selenium.webdriver.remote.webelement.WebElement (session=\"32ae3bfc7963706d761cf8daa87cc05e\", element=\"cc9094d8-6a90-436c-bad7-5efbb162c5a7\")>,\n",
       " <selenium.webdriver.remote.webelement.WebElement (session=\"32ae3bfc7963706d761cf8daa87cc05e\", element=\"2b48e7d6-7762-4790-b207-08b3a45b1c5d\")>,\n",
       " <selenium.webdriver.remote.webelement.WebElement (session=\"32ae3bfc7963706d761cf8daa87cc05e\", element=\"66bfb6d6-e4ba-45fa-935b-414b557ead10\")>,\n",
       " <selenium.webdriver.remote.webelement.WebElement (session=\"32ae3bfc7963706d761cf8daa87cc05e\", element=\"a7e3534b-217d-45a2-88b8-dfd3b524c2bf\")>,\n",
       " <selenium.webdriver.remote.webelement.WebElement (session=\"32ae3bfc7963706d761cf8daa87cc05e\", element=\"70fcf76d-a3c9-4252-a298-73e8f65a1411\")>,\n",
       " <selenium.webdriver.remote.webelement.WebElement (session=\"32ae3bfc7963706d761cf8daa87cc05e\", element=\"ad9a113a-12ba-4503-9465-d1c2c3e80043\")>]"
      ]
     },
     "execution_count": 47,
     "metadata": {},
     "output_type": "execute_result"
    }
   ],
   "source": [
    "# Lets extract all the tags having Company required data.Let me first show you in which tags this data is put on the webpage\n",
    "\n",
    "Company=driver.find_elements_by_xpath(\"//div[@class='mt-7 companyInfo subheading lh16']\")\n",
    "Company"
   ]
  },
  {
   "cell_type": "code",
   "execution_count": 48,
   "metadata": {},
   "outputs": [
    {
     "data": {
      "text/plain": [
       "['24/7 Customer\\n3.6\\n(1197 Reviews)',\n",
       " 'Fractal Analytics\\n3.9\\n(97 Reviews)',\n",
       " 'Nielsen\\n3.8\\n(483 Reviews)',\n",
       " 'Wipro Limited\\n3.8\\n(12622 Reviews)',\n",
       " 'Pluto7',\n",
       " 'Gojek Tech',\n",
       " 'GO-JEK India\\n4.4\\n(5 Reviews)',\n",
       " 'Publicis Groupe\\n3.4\\n(64 Reviews)',\n",
       " 'AIRBNB GLOBAL CAPABILITY CENTER PRIVATE LIMITED',\n",
       " 'Lendingkart Finance Limited\\n3.0\\n(128 Reviews)',\n",
       " 'Wrackle Technologies Pvt Ltd',\n",
       " 'Philips India Limited\\n4.0\\n(539 Reviews)',\n",
       " 'Philips India Limited\\n4.0\\n(539 Reviews)',\n",
       " 'AUREUSTECH SYSTEMS PRIVATE LIMITED',\n",
       " 'Pluto7',\n",
       " 'HEAL Software Inc',\n",
       " '24/7 Customer\\n3.6\\n(1197 Reviews)',\n",
       " 'Wrackle Technologies Pvt Ltd',\n",
       " 'Fidius advisory',\n",
       " 'Philips India Limited\\n4.0\\n(539 Reviews)']"
      ]
     },
     "execution_count": 48,
     "metadata": {},
     "output_type": "execute_result"
    }
   ],
   "source": [
    "company_name=[]\n",
    "\n",
    "for i in Company:\n",
    "    company_name.append(i.text)\n",
    "company_name"
   ]
  },
  {
   "cell_type": "code",
   "execution_count": null,
   "metadata": {},
   "outputs": [],
   "source": [
    "# Lets extract all the tags having Company required data.Let me first show you in which tags this data is put on the webpage\n",
    "\n",
    "Company=driver.find_elements_by_xpath(\"//div[@class='Brief about the Role']\")\n",
    "Company"
   ]
  },
  {
   "cell_type": "code",
   "execution_count": 25,
   "metadata": {},
   "outputs": [
    {
     "data": {
      "text/plain": [
       "['https://www.naukri.com/job-listings-data-scientist-data-analyst-business-analyst-inflexion-analytix-private-limited-hyderabad-secunderabad-chennai-bangalore-bengaluru-0-to-3-years-020721003625?src=jobsearchDesk&sid=16254873377973060&xp=1&px=1',\n",
       " 'https://www.naukri.com/job-listings-senior-data-scientist-24-7-customer-private-ltd-bangalore-bengaluru-5-to-10-years-280621501037?src=jobsearchDesk&sid=16254873377973060&xp=2&px=1',\n",
       " 'https://www.naukri.com/job-listings-senior-lead-data-scientist-machine-learning-deep-learning-squareroot-consulting-pvt-ltd-bangalore-bengaluru-1-to-6-years-010320600083?src=jobsearchDesk&sid=16254873377973060&xp=3&px=1',\n",
       " 'https://www.naukri.com/job-listings-senior-data-scientist-fractal-analytics-ltd-mumbai-gurgaon-gurugram-bangalore-bengaluru-4-to-8-years-290621500776?src=jobsearchDesk&sid=16254873377973060&xp=4&px=1',\n",
       " 'https://www.naukri.com/job-listings-senior-data-scientist-nielsen-india-private-limited-chennai-bangalore-bengaluru-vadodara-baroda-3-to-5-years-290621001647?src=jobsearchDesk&sid=16254873377973060&xp=5&px=1',\n",
       " 'https://www.naukri.com/job-listings-lead-data-scientist-machine-learning-data-mining-wrackle-technologies-pvt-ltd-bangalore-bengaluru-6-to-11-years-080221900886?src=jobsearchDesk&sid=16254873377973060&xp=6&px=1',\n",
       " 'https://www.naukri.com/job-listings-data-scientist-iv-conduent-bangalore-bengaluru-10-to-15-years-030721500406?src=jobsearchDesk&sid=16254873377973060&xp=7&px=1',\n",
       " 'https://www.naukri.com/job-listings-data-scientist-oracle-india-pvt-ltd-noida-bangalore-bengaluru-5-to-9-years-010621004567?src=jobsearchDesk&sid=16254873377973060&xp=8&px=1',\n",
       " 'https://www.naukri.com/job-listings-data-scientist-wipro-limited-hyderabad-secunderabad-bangalore-bengaluru-pune-5-to-10-years-280621014912?src=jobsearchDesk&sid=16254873377973060&xp=9&px=1',\n",
       " 'https://www.naukri.com/job-listings-senior-data-scientist-pluto7-bangalore-bengaluru-2-to-4-years-280621500617?src=jobsearchDesk&sid=16254873377973060&xp=10&px=1',\n",
       " 'https://www.naukri.com/job-listings-senior-data-scientist-roppen-transportation-services-private-limited-bangalore-bengaluru-5-to-8-years-010721000825?src=jobsearchDesk&sid=16254873377973060&xp=11&px=1',\n",
       " 'https://www.naukri.com/job-listings-sr-data-scientist-nielseniq-bangalore-bengaluru-3-to-5-years-300621501250?src=jobsearchDesk&sid=16254873377973060&xp=12&px=1',\n",
       " 'https://www.naukri.com/job-listings-senior-data-scientist-go-jek-india-bangalore-bengaluru-5-to-10-years-300621500214?src=jobsearchDesk&sid=16254873377973060&xp=13&px=1',\n",
       " 'https://www.naukri.com/job-listings-senior-data-scientist-publicis-groupe-bangalore-bengaluru-2-to-5-years-290621500896?src=jobsearchDesk&sid=16254873377973060&xp=14&px=1',\n",
       " 'https://www.naukri.com/job-listings-senior-data-scientist-baker-hughes-the-network-bangalore-bengaluru-4-to-8-years-020721501523?src=jobsearchDesk&sid=16254873377973060&xp=15&px=1',\n",
       " 'https://www.naukri.com/job-listings-senior-data-scientist-fabhotel-aay-kay-model-town-bangalore-bengaluru-6-to-7-years-020721501495?src=jobsearchDesk&sid=16254873377973060&xp=16&px=1',\n",
       " 'https://www.naukri.com/job-listings-senior-data-scientist-gojek-tech-bangalore-bengaluru-3-to-6-years-300621500215?src=jobsearchDesk&sid=16254873377973060&xp=17&px=1',\n",
       " 'https://www.naukri.com/job-listings-senior-data-scientist-baker-hughes-incorporated-bangalore-bengaluru-3-to-7-years-010721501049?src=jobsearchDesk&sid=16254873377973060&xp=18&px=1',\n",
       " 'https://www.naukri.com/job-listings-sr-data-scientist-payments-airbnb-global-capability-center-private-limited-bangalore-bengaluru-4-to-6-years-300621903935?src=jobsearchDesk&sid=16254873377973060&xp=19&px=1',\n",
       " 'https://www.naukri.com/job-listings-senior-data-scientist-i-philips-india-limited-bangalore-bengaluru-6-to-10-years-250621500799?src=jobsearchDesk&sid=16254873377973060&xp=20&px=1']"
      ]
     },
     "execution_count": 25,
     "metadata": {},
     "output_type": "execute_result"
    }
   ],
   "source": [
    "job_opening_urls=[]\n",
    "\n",
    "url=driver.find_elements_by_xpath('//a[@class=\"title fw500 ellipsis\"]')\n",
    "for i in url:\n",
    "    job_opening_urls.append(i.get_attribute('href'))\n",
    "job_opening_urls"
   ]
  },
  {
   "cell_type": "code",
   "execution_count": 28,
   "metadata": {},
   "outputs": [
    {
     "data": {
      "text/plain": [
       "[<selenium.webdriver.remote.webelement.WebElement (session=\"84b112a4dd2b1565bd270f5a87e43657\", element=\"65a86af9-bd82-4309-9931-f55be54d6d5a\")>,\n",
       " <selenium.webdriver.remote.webelement.WebElement (session=\"84b112a4dd2b1565bd270f5a87e43657\", element=\"dea8a36c-47a0-4367-aaec-de71a6478035\")>,\n",
       " <selenium.webdriver.remote.webelement.WebElement (session=\"84b112a4dd2b1565bd270f5a87e43657\", element=\"5fe4f5c9-6a2b-46ec-9836-7bbf521fa1dd\")>,\n",
       " <selenium.webdriver.remote.webelement.WebElement (session=\"84b112a4dd2b1565bd270f5a87e43657\", element=\"e78a8278-e932-4076-ab56-dea52c0aae83\")>,\n",
       " <selenium.webdriver.remote.webelement.WebElement (session=\"84b112a4dd2b1565bd270f5a87e43657\", element=\"6e58c3c0-e6e6-47ab-adde-7cdc949944e7\")>,\n",
       " <selenium.webdriver.remote.webelement.WebElement (session=\"84b112a4dd2b1565bd270f5a87e43657\", element=\"fa074c6c-852d-4dce-8989-84fe3616dd9a\")>,\n",
       " <selenium.webdriver.remote.webelement.WebElement (session=\"84b112a4dd2b1565bd270f5a87e43657\", element=\"eb3eefd9-ab46-401c-83e7-e8395d554a85\")>,\n",
       " <selenium.webdriver.remote.webelement.WebElement (session=\"84b112a4dd2b1565bd270f5a87e43657\", element=\"59f6fa0a-474d-480d-bc6d-2b60909038f3\")>,\n",
       " <selenium.webdriver.remote.webelement.WebElement (session=\"84b112a4dd2b1565bd270f5a87e43657\", element=\"a85b8571-934c-4e1c-9eae-a882080520ed\")>,\n",
       " <selenium.webdriver.remote.webelement.WebElement (session=\"84b112a4dd2b1565bd270f5a87e43657\", element=\"6b0f60e8-e365-42e7-8ba7-fd6a33f50edf\")>,\n",
       " <selenium.webdriver.remote.webelement.WebElement (session=\"84b112a4dd2b1565bd270f5a87e43657\", element=\"5fe828d6-db33-40eb-b728-ef750a037862\")>,\n",
       " <selenium.webdriver.remote.webelement.WebElement (session=\"84b112a4dd2b1565bd270f5a87e43657\", element=\"dbef254b-7f39-4530-bbae-088b0114870e\")>,\n",
       " <selenium.webdriver.remote.webelement.WebElement (session=\"84b112a4dd2b1565bd270f5a87e43657\", element=\"92cf351b-4886-4a22-a8b0-cbf6d368aca1\")>,\n",
       " <selenium.webdriver.remote.webelement.WebElement (session=\"84b112a4dd2b1565bd270f5a87e43657\", element=\"5f99a098-d2c5-4677-b6fe-a0a421213d18\")>,\n",
       " <selenium.webdriver.remote.webelement.WebElement (session=\"84b112a4dd2b1565bd270f5a87e43657\", element=\"aec59e42-7fda-4fe8-93a3-c5d5a758973c\")>,\n",
       " <selenium.webdriver.remote.webelement.WebElement (session=\"84b112a4dd2b1565bd270f5a87e43657\", element=\"ab7463f5-8d1f-42ff-8d4f-d9cffbaa752d\")>,\n",
       " <selenium.webdriver.remote.webelement.WebElement (session=\"84b112a4dd2b1565bd270f5a87e43657\", element=\"49a6eeec-78d8-4229-8d3e-bca6dee32be8\")>,\n",
       " <selenium.webdriver.remote.webelement.WebElement (session=\"84b112a4dd2b1565bd270f5a87e43657\", element=\"865dfced-a8f4-4468-b17c-f91bca7137ca\")>,\n",
       " <selenium.webdriver.remote.webelement.WebElement (session=\"84b112a4dd2b1565bd270f5a87e43657\", element=\"3dd1cdad-0b29-452c-93fa-c5e13f9404a8\")>,\n",
       " <selenium.webdriver.remote.webelement.WebElement (session=\"84b112a4dd2b1565bd270f5a87e43657\", element=\"00426513-628d-40c2-9d7e-acfb858c295d\")>,\n",
       " <selenium.webdriver.remote.webelement.WebElement (session=\"84b112a4dd2b1565bd270f5a87e43657\", element=\"72a7f59b-c6b8-4a01-8717-99e7e0c26100\")>,\n",
       " <selenium.webdriver.remote.webelement.WebElement (session=\"84b112a4dd2b1565bd270f5a87e43657\", element=\"616047b2-7a6c-4d59-b248-c268a5651b3c\")>,\n",
       " <selenium.webdriver.remote.webelement.WebElement (session=\"84b112a4dd2b1565bd270f5a87e43657\", element=\"c4739011-44a1-4320-bf80-9bae175bcdd4\")>,\n",
       " <selenium.webdriver.remote.webelement.WebElement (session=\"84b112a4dd2b1565bd270f5a87e43657\", element=\"48c83463-aad9-4b51-9fe8-3770d524c37f\")>,\n",
       " <selenium.webdriver.remote.webelement.WebElement (session=\"84b112a4dd2b1565bd270f5a87e43657\", element=\"9fb1c908-de09-4abb-86b0-2d7fef99b00f\")>,\n",
       " <selenium.webdriver.remote.webelement.WebElement (session=\"84b112a4dd2b1565bd270f5a87e43657\", element=\"bff809de-1091-4f80-8744-54e5786ad22a\")>,\n",
       " <selenium.webdriver.remote.webelement.WebElement (session=\"84b112a4dd2b1565bd270f5a87e43657\", element=\"edaa2916-b4c9-4651-aaaa-fa7efa2d971e\")>,\n",
       " <selenium.webdriver.remote.webelement.WebElement (session=\"84b112a4dd2b1565bd270f5a87e43657\", element=\"5555d7c3-5d12-42a6-9d94-0e3167dc67eb\")>]"
      ]
     },
     "execution_count": 28,
     "metadata": {},
     "output_type": "execute_result"
    }
   ],
   "source": [
    "job_titles= []\n",
    "for i in job_opening_urls:\n",
    "    driver.get(i)\n",
    "    try:\n",
    "        job_titles=driver.find_elements_by_xpath(\"//div[@class='dang-inner-html']//span\")\n",
    "        job_titles.append(i.text)\n",
    "    except:\n",
    "        pass\n",
    "job_titles"
   ]
  },
  {
   "cell_type": "code",
   "execution_count": null,
   "metadata": {},
   "outputs": [],
   "source": [
    "Company=driver.find_elements_by_xpath(\"//div[@class='Brief about the Role']\")"
   ]
  },
  {
   "cell_type": "raw",
   "metadata": {},
   "source": [
    "Q3: In this question you have to scrape data using the filters available on the \n",
    "webpage as shown below:\n",
    "You have to use the location and salary filter.\n",
    "You have to scrape data for “Data Scientist” designation for first 10 job results.\n",
    "You have to scrape the job-title, job-location, company_name,\n",
    "experience_required.\n",
    "The location filter to be used is “Delhi/NCR”\n",
    "The salary filter to be used is “3-6” lakhs\n",
    "The task will be done as shown in the below steps:\n",
    "1. first get the webpage https://www.naukri.com/\n",
    "2. Enter “Data Scientist” in “Skill,Designations,Companies” field \n",
    "3. Then click the search button.\n",
    "4. Then apply the location filter and salary filter by checking the respective boxes\n",
    "4. Then scrape the data for the first 10 jobs results you get.\n",
    "5. Finally create a dataframe of the scraped data.\n",
    "Note- All of the above steps have to be done in code. No step is to be done \n",
    "manually."
   ]
  },
  {
   "cell_type": "code",
   "execution_count": 7,
   "metadata": {},
   "outputs": [],
   "source": [
    "# lets firts connect to web driver\n",
    "driver=webdriver.Chrome(r'D:\\Datatrained\\Flip Robo Intership\\Web Scrapping\\Web Driver\\chromedriver_win32\\chromedriver.exe')"
   ]
  },
  {
   "cell_type": "code",
   "execution_count": 38,
   "metadata": {},
   "outputs": [
    {
     "ename": "WebDriverException",
     "evalue": "Message: chrome not reachable\n  (Session info: chrome=91.0.4472.124)\n",
     "output_type": "error",
     "traceback": [
      "\u001b[1;31m---------------------------------------------------------------------------\u001b[0m",
      "\u001b[1;31mWebDriverException\u001b[0m                        Traceback (most recent call last)",
      "\u001b[1;32m<ipython-input-38-64fc2a9167b1>\u001b[0m in \u001b[0;36m<module>\u001b[1;34m\u001b[0m\n\u001b[0;32m      1\u001b[0m \u001b[1;31m#get the webpage https://www.naukri.com/\u001b[0m\u001b[1;33m\u001b[0m\u001b[1;33m\u001b[0m\u001b[1;33m\u001b[0m\u001b[0m\n\u001b[0;32m      2\u001b[0m \u001b[0murl\u001b[0m\u001b[1;33m=\u001b[0m\u001b[1;34m'https://www.naukri.com/'\u001b[0m\u001b[1;33m\u001b[0m\u001b[1;33m\u001b[0m\u001b[0m\n\u001b[1;32m----> 3\u001b[1;33m \u001b[0mdriver\u001b[0m\u001b[1;33m.\u001b[0m\u001b[0mget\u001b[0m\u001b[1;33m(\u001b[0m\u001b[0murl\u001b[0m\u001b[1;33m)\u001b[0m\u001b[1;33m\u001b[0m\u001b[1;33m\u001b[0m\u001b[0m\n\u001b[0m",
      "\u001b[1;32m~\\anaconda3\\lib\\site-packages\\selenium\\webdriver\\remote\\webdriver.py\u001b[0m in \u001b[0;36mget\u001b[1;34m(self, url)\u001b[0m\n\u001b[0;32m    331\u001b[0m         \u001b[0mLoads\u001b[0m \u001b[0ma\u001b[0m \u001b[0mweb\u001b[0m \u001b[0mpage\u001b[0m \u001b[1;32min\u001b[0m \u001b[0mthe\u001b[0m \u001b[0mcurrent\u001b[0m \u001b[0mbrowser\u001b[0m \u001b[0msession\u001b[0m\u001b[1;33m.\u001b[0m\u001b[1;33m\u001b[0m\u001b[1;33m\u001b[0m\u001b[0m\n\u001b[0;32m    332\u001b[0m         \"\"\"\n\u001b[1;32m--> 333\u001b[1;33m         \u001b[0mself\u001b[0m\u001b[1;33m.\u001b[0m\u001b[0mexecute\u001b[0m\u001b[1;33m(\u001b[0m\u001b[0mCommand\u001b[0m\u001b[1;33m.\u001b[0m\u001b[0mGET\u001b[0m\u001b[1;33m,\u001b[0m \u001b[1;33m{\u001b[0m\u001b[1;34m'url'\u001b[0m\u001b[1;33m:\u001b[0m \u001b[0murl\u001b[0m\u001b[1;33m}\u001b[0m\u001b[1;33m)\u001b[0m\u001b[1;33m\u001b[0m\u001b[1;33m\u001b[0m\u001b[0m\n\u001b[0m\u001b[0;32m    334\u001b[0m \u001b[1;33m\u001b[0m\u001b[0m\n\u001b[0;32m    335\u001b[0m     \u001b[1;33m@\u001b[0m\u001b[0mproperty\u001b[0m\u001b[1;33m\u001b[0m\u001b[1;33m\u001b[0m\u001b[0m\n",
      "\u001b[1;32m~\\anaconda3\\lib\\site-packages\\selenium\\webdriver\\remote\\webdriver.py\u001b[0m in \u001b[0;36mexecute\u001b[1;34m(self, driver_command, params)\u001b[0m\n\u001b[0;32m    319\u001b[0m         \u001b[0mresponse\u001b[0m \u001b[1;33m=\u001b[0m \u001b[0mself\u001b[0m\u001b[1;33m.\u001b[0m\u001b[0mcommand_executor\u001b[0m\u001b[1;33m.\u001b[0m\u001b[0mexecute\u001b[0m\u001b[1;33m(\u001b[0m\u001b[0mdriver_command\u001b[0m\u001b[1;33m,\u001b[0m \u001b[0mparams\u001b[0m\u001b[1;33m)\u001b[0m\u001b[1;33m\u001b[0m\u001b[1;33m\u001b[0m\u001b[0m\n\u001b[0;32m    320\u001b[0m         \u001b[1;32mif\u001b[0m \u001b[0mresponse\u001b[0m\u001b[1;33m:\u001b[0m\u001b[1;33m\u001b[0m\u001b[1;33m\u001b[0m\u001b[0m\n\u001b[1;32m--> 321\u001b[1;33m             \u001b[0mself\u001b[0m\u001b[1;33m.\u001b[0m\u001b[0merror_handler\u001b[0m\u001b[1;33m.\u001b[0m\u001b[0mcheck_response\u001b[0m\u001b[1;33m(\u001b[0m\u001b[0mresponse\u001b[0m\u001b[1;33m)\u001b[0m\u001b[1;33m\u001b[0m\u001b[1;33m\u001b[0m\u001b[0m\n\u001b[0m\u001b[0;32m    322\u001b[0m             response['value'] = self._unwrap_value(\n\u001b[0;32m    323\u001b[0m                 response.get('value', None))\n",
      "\u001b[1;32m~\\anaconda3\\lib\\site-packages\\selenium\\webdriver\\remote\\errorhandler.py\u001b[0m in \u001b[0;36mcheck_response\u001b[1;34m(self, response)\u001b[0m\n\u001b[0;32m    240\u001b[0m                 \u001b[0malert_text\u001b[0m \u001b[1;33m=\u001b[0m \u001b[0mvalue\u001b[0m\u001b[1;33m[\u001b[0m\u001b[1;34m'alert'\u001b[0m\u001b[1;33m]\u001b[0m\u001b[1;33m.\u001b[0m\u001b[0mget\u001b[0m\u001b[1;33m(\u001b[0m\u001b[1;34m'text'\u001b[0m\u001b[1;33m)\u001b[0m\u001b[1;33m\u001b[0m\u001b[1;33m\u001b[0m\u001b[0m\n\u001b[0;32m    241\u001b[0m             \u001b[1;32mraise\u001b[0m \u001b[0mexception_class\u001b[0m\u001b[1;33m(\u001b[0m\u001b[0mmessage\u001b[0m\u001b[1;33m,\u001b[0m \u001b[0mscreen\u001b[0m\u001b[1;33m,\u001b[0m \u001b[0mstacktrace\u001b[0m\u001b[1;33m,\u001b[0m \u001b[0malert_text\u001b[0m\u001b[1;33m)\u001b[0m\u001b[1;33m\u001b[0m\u001b[1;33m\u001b[0m\u001b[0m\n\u001b[1;32m--> 242\u001b[1;33m         \u001b[1;32mraise\u001b[0m \u001b[0mexception_class\u001b[0m\u001b[1;33m(\u001b[0m\u001b[0mmessage\u001b[0m\u001b[1;33m,\u001b[0m \u001b[0mscreen\u001b[0m\u001b[1;33m,\u001b[0m \u001b[0mstacktrace\u001b[0m\u001b[1;33m)\u001b[0m\u001b[1;33m\u001b[0m\u001b[1;33m\u001b[0m\u001b[0m\n\u001b[0m\u001b[0;32m    243\u001b[0m \u001b[1;33m\u001b[0m\u001b[0m\n\u001b[0;32m    244\u001b[0m     \u001b[1;32mdef\u001b[0m \u001b[0m_value_or_default\u001b[0m\u001b[1;33m(\u001b[0m\u001b[0mself\u001b[0m\u001b[1;33m,\u001b[0m \u001b[0mobj\u001b[0m\u001b[1;33m,\u001b[0m \u001b[0mkey\u001b[0m\u001b[1;33m,\u001b[0m \u001b[0mdefault\u001b[0m\u001b[1;33m)\u001b[0m\u001b[1;33m:\u001b[0m\u001b[1;33m\u001b[0m\u001b[1;33m\u001b[0m\u001b[0m\n",
      "\u001b[1;31mWebDriverException\u001b[0m: Message: chrome not reachable\n  (Session info: chrome=91.0.4472.124)\n"
     ]
    }
   ],
   "source": [
    "#get the webpage https://www.naukri.com/\n",
    "url='https://www.naukri.com/'\n",
    "driver.get(url)"
   ]
  },
  {
   "cell_type": "code",
   "execution_count": 9,
   "metadata": {},
   "outputs": [
    {
     "data": {
      "text/plain": [
       "<selenium.webdriver.remote.webelement.WebElement (session=\"b882e3f9cb5c89d8c9eac228b1e9cef1\", element=\"27c7f583-bc62-4809-ba35-d992a275bb51\")>"
      ]
     },
     "execution_count": 9,
     "metadata": {},
     "output_type": "execute_result"
    }
   ],
   "source": [
    "#By Xpath for “Data Scientist”\n",
    "serach_job=driver.find_element_by_xpath('//input[@class=\"sugInp\"]')\n",
    "serach_job   "
   ]
  },
  {
   "cell_type": "code",
   "execution_count": 12,
   "metadata": {},
   "outputs": [],
   "source": [
    "serach_job.send_keys(\"Data Scientist\")"
   ]
  },
  {
   "cell_type": "code",
   "execution_count": 18,
   "metadata": {},
   "outputs": [
    {
     "data": {
      "text/plain": [
       "<selenium.webdriver.remote.webelement.WebElement (session=\"b882e3f9cb5c89d8c9eac228b1e9cef1\", element=\"27c7f583-bc62-4809-ba35-d992a275bb51\")>"
      ]
     },
     "execution_count": 18,
     "metadata": {},
     "output_type": "execute_result"
    }
   ],
   "source": [
    "#The location filter to be used is “Delhi/NCR”\n",
    "serach_loc=driver.find_element_by_xpath('//input[@class=\"sugInp\"]')\n",
    "serach_loc "
   ]
  },
  {
   "cell_type": "code",
   "execution_count": 20,
   "metadata": {},
   "outputs": [],
   "source": [
    "serach_loc.send_keys('Delhi/NCR')"
   ]
  },
  {
   "cell_type": "code",
   "execution_count": 21,
   "metadata": {},
   "outputs": [],
   "source": [
    "# do click using Xpath function\n",
    "search_btn=driver.find_element_by_xpath(\"//button[@class='btn']\")\n",
    "search_btn.click()"
   ]
  },
  {
   "cell_type": "code",
   "execution_count": 27,
   "metadata": {},
   "outputs": [],
   "source": [
    "#The salary filter to be used is “3-6” lakhs\n",
    "search_btn=driver.find_element_by_xpath(\"//span[@class='ellipsis fleft']\")\n",
    "search_btn.click()\n"
   ]
  },
  {
   "cell_type": "code",
   "execution_count": 28,
   "metadata": {},
   "outputs": [],
   "source": [
    "job-title, job-location, company_name,\n",
    "experience_required"
   ]
  },
  {
   "cell_type": "code",
   "execution_count": 29,
   "metadata": {},
   "outputs": [
    {
     "data": {
      "text/plain": [
       "[<selenium.webdriver.remote.webelement.WebElement (session=\"b882e3f9cb5c89d8c9eac228b1e9cef1\", element=\"56ceaedb-5a76-46cf-8c53-f9faac55e25d\")>,\n",
       " <selenium.webdriver.remote.webelement.WebElement (session=\"b882e3f9cb5c89d8c9eac228b1e9cef1\", element=\"669637a2-54d9-48ab-9d3a-a1ff714a6818\")>,\n",
       " <selenium.webdriver.remote.webelement.WebElement (session=\"b882e3f9cb5c89d8c9eac228b1e9cef1\", element=\"15a6c378-40d9-41e4-addb-286f9b28d018\")>,\n",
       " <selenium.webdriver.remote.webelement.WebElement (session=\"b882e3f9cb5c89d8c9eac228b1e9cef1\", element=\"8bab26cf-d115-42d8-b861-264a4270ace8\")>,\n",
       " <selenium.webdriver.remote.webelement.WebElement (session=\"b882e3f9cb5c89d8c9eac228b1e9cef1\", element=\"527aed5f-3e1f-47a5-b5b1-ffe509f101ea\")>,\n",
       " <selenium.webdriver.remote.webelement.WebElement (session=\"b882e3f9cb5c89d8c9eac228b1e9cef1\", element=\"f9b9445d-d20f-4573-b7b5-2396ef9fa14a\")>,\n",
       " <selenium.webdriver.remote.webelement.WebElement (session=\"b882e3f9cb5c89d8c9eac228b1e9cef1\", element=\"42d96ee7-a2d7-4c40-9dec-bb2db0e54a7d\")>,\n",
       " <selenium.webdriver.remote.webelement.WebElement (session=\"b882e3f9cb5c89d8c9eac228b1e9cef1\", element=\"f5a0d3a7-dcfe-4ac8-93f7-7802bfff065e\")>,\n",
       " <selenium.webdriver.remote.webelement.WebElement (session=\"b882e3f9cb5c89d8c9eac228b1e9cef1\", element=\"5043f723-3077-4226-9e2d-bb9dfd6901ce\")>,\n",
       " <selenium.webdriver.remote.webelement.WebElement (session=\"b882e3f9cb5c89d8c9eac228b1e9cef1\", element=\"df10a1b2-1a6f-4ed3-a55c-812dc07bdf07\")>,\n",
       " <selenium.webdriver.remote.webelement.WebElement (session=\"b882e3f9cb5c89d8c9eac228b1e9cef1\", element=\"be2b9647-5d57-46ba-96f8-ac9e049580c3\")>,\n",
       " <selenium.webdriver.remote.webelement.WebElement (session=\"b882e3f9cb5c89d8c9eac228b1e9cef1\", element=\"da5d5a47-c658-4bb6-a861-cbfcac19de90\")>,\n",
       " <selenium.webdriver.remote.webelement.WebElement (session=\"b882e3f9cb5c89d8c9eac228b1e9cef1\", element=\"0d04a0de-bc8a-40e6-8bb5-cde0da3e1dc7\")>,\n",
       " <selenium.webdriver.remote.webelement.WebElement (session=\"b882e3f9cb5c89d8c9eac228b1e9cef1\", element=\"2ab602e7-6e7c-4bff-8f7a-4975e98d6a80\")>,\n",
       " <selenium.webdriver.remote.webelement.WebElement (session=\"b882e3f9cb5c89d8c9eac228b1e9cef1\", element=\"d2d5c1ca-4d3b-49f1-9a8e-87922f7c842b\")>,\n",
       " <selenium.webdriver.remote.webelement.WebElement (session=\"b882e3f9cb5c89d8c9eac228b1e9cef1\", element=\"c5c47bbf-7eb1-4eb7-9925-f31ecd33b9af\")>,\n",
       " <selenium.webdriver.remote.webelement.WebElement (session=\"b882e3f9cb5c89d8c9eac228b1e9cef1\", element=\"02208ddf-5984-4a65-8428-88bda9851641\")>,\n",
       " <selenium.webdriver.remote.webelement.WebElement (session=\"b882e3f9cb5c89d8c9eac228b1e9cef1\", element=\"eaff7112-34e7-4329-877d-5563bbd50c86\")>,\n",
       " <selenium.webdriver.remote.webelement.WebElement (session=\"b882e3f9cb5c89d8c9eac228b1e9cef1\", element=\"9f077fef-58f3-469a-8508-7142d52453e5\")>,\n",
       " <selenium.webdriver.remote.webelement.WebElement (session=\"b882e3f9cb5c89d8c9eac228b1e9cef1\", element=\"f14d0699-c1d5-4b5b-9058-fdb6aa0b8f94\")>]"
      ]
     },
     "execution_count": 29,
     "metadata": {},
     "output_type": "execute_result"
    }
   ],
   "source": [
    "# Lets extract all the tags having experience required data.Let me first show you in which tags this data is put on the webpage\n",
    "Job=driver.find_elements_by_xpath(\"//a[@class='title fw500 ellipsis']\")\n",
    "Job"
   ]
  },
  {
   "cell_type": "code",
   "execution_count": 30,
   "metadata": {},
   "outputs": [
    {
     "data": {
      "text/plain": [
       "['Data Scientist/Data Analyst /Business Analyst',\n",
       " 'Only Fresher / Data Scientist / Data Analyst / Analytics - MNC Jobs',\n",
       " 'Data Scientist - Machine Learning/ NLP',\n",
       " 'Data Scientist || Python || C2H',\n",
       " 'Data Scientist || Python || C2H',\n",
       " 'Advanced Analytics -Data Scientist',\n",
       " 'Data Scientist - Text NLP | Noida',\n",
       " 'Data Scientist - Machine Learning/NLP',\n",
       " 'Data Scientist (Early Joiner)',\n",
       " 'Data analytics / Data scientist intern (work from Home)',\n",
       " 'Data Scientist',\n",
       " 'Chaayos is Looking For Data Scientist',\n",
       " 'Data Scientist (NLP)',\n",
       " 'Data Scientist -Delhi',\n",
       " 'Senior Data Scientist',\n",
       " 'We are hiring- Data Scientist +Python- Noida',\n",
       " 'Data Scientist',\n",
       " 'Data Scientist',\n",
       " 'Data Scientist',\n",
       " 'Data Scientist']"
      ]
     },
     "execution_count": 30,
     "metadata": {},
     "output_type": "execute_result"
    }
   ],
   "source": [
    "job_title=[]\n",
    "\n",
    "for i in Job:\n",
    "    job_title.append(i.text)\n",
    "job_title"
   ]
  },
  {
   "cell_type": "code",
   "execution_count": 31,
   "metadata": {},
   "outputs": [
    {
     "data": {
      "text/plain": [
       "[<selenium.webdriver.remote.webelement.WebElement (session=\"b882e3f9cb5c89d8c9eac228b1e9cef1\", element=\"07d65668-4f68-4738-bb5c-bb6fd2e88884\")>,\n",
       " <selenium.webdriver.remote.webelement.WebElement (session=\"b882e3f9cb5c89d8c9eac228b1e9cef1\", element=\"42f2b6db-70b3-4e1b-a123-f0095f324b68\")>,\n",
       " <selenium.webdriver.remote.webelement.WebElement (session=\"b882e3f9cb5c89d8c9eac228b1e9cef1\", element=\"5beb6822-8dbb-40c2-9ada-49d156116456\")>,\n",
       " <selenium.webdriver.remote.webelement.WebElement (session=\"b882e3f9cb5c89d8c9eac228b1e9cef1\", element=\"a6fa78e9-e409-4dc2-9292-0aeb07c3b2de\")>,\n",
       " <selenium.webdriver.remote.webelement.WebElement (session=\"b882e3f9cb5c89d8c9eac228b1e9cef1\", element=\"df99330b-84b1-4ce3-bb93-16e525ac9a21\")>,\n",
       " <selenium.webdriver.remote.webelement.WebElement (session=\"b882e3f9cb5c89d8c9eac228b1e9cef1\", element=\"5c39f1c2-2c76-4b7c-80bb-b2051d4d76e2\")>,\n",
       " <selenium.webdriver.remote.webelement.WebElement (session=\"b882e3f9cb5c89d8c9eac228b1e9cef1\", element=\"67e4fde1-f860-4a4d-90c8-56413b4a32e8\")>,\n",
       " <selenium.webdriver.remote.webelement.WebElement (session=\"b882e3f9cb5c89d8c9eac228b1e9cef1\", element=\"30bd7e31-994a-416c-8756-027939db2061\")>,\n",
       " <selenium.webdriver.remote.webelement.WebElement (session=\"b882e3f9cb5c89d8c9eac228b1e9cef1\", element=\"8821735e-ceac-4481-a761-6a4fa2de5689\")>,\n",
       " <selenium.webdriver.remote.webelement.WebElement (session=\"b882e3f9cb5c89d8c9eac228b1e9cef1\", element=\"150b0e8b-021b-436c-9f1c-813f690a3193\")>,\n",
       " <selenium.webdriver.remote.webelement.WebElement (session=\"b882e3f9cb5c89d8c9eac228b1e9cef1\", element=\"aa34a78c-4ea7-46a4-a331-503048e67a36\")>,\n",
       " <selenium.webdriver.remote.webelement.WebElement (session=\"b882e3f9cb5c89d8c9eac228b1e9cef1\", element=\"f167dd72-e6ff-44de-aad4-7b50903f5c8b\")>,\n",
       " <selenium.webdriver.remote.webelement.WebElement (session=\"b882e3f9cb5c89d8c9eac228b1e9cef1\", element=\"5a379062-f183-4d6f-9e61-48b946d11411\")>,\n",
       " <selenium.webdriver.remote.webelement.WebElement (session=\"b882e3f9cb5c89d8c9eac228b1e9cef1\", element=\"316823e1-b67c-43e2-91c9-67bde6f367d0\")>,\n",
       " <selenium.webdriver.remote.webelement.WebElement (session=\"b882e3f9cb5c89d8c9eac228b1e9cef1\", element=\"739c236d-19dd-4c63-964b-eb7818da8e76\")>,\n",
       " <selenium.webdriver.remote.webelement.WebElement (session=\"b882e3f9cb5c89d8c9eac228b1e9cef1\", element=\"bdd036f1-b9ff-4db0-bc3a-30c078f38d97\")>,\n",
       " <selenium.webdriver.remote.webelement.WebElement (session=\"b882e3f9cb5c89d8c9eac228b1e9cef1\", element=\"a0216e75-ed5f-45fc-bf00-3f567e55ac5b\")>,\n",
       " <selenium.webdriver.remote.webelement.WebElement (session=\"b882e3f9cb5c89d8c9eac228b1e9cef1\", element=\"0043c3bd-31d7-4a99-8b6d-acdd92b065e1\")>,\n",
       " <selenium.webdriver.remote.webelement.WebElement (session=\"b882e3f9cb5c89d8c9eac228b1e9cef1\", element=\"bf3f4ccb-7c4c-455f-8fda-15face9d07fa\")>,\n",
       " <selenium.webdriver.remote.webelement.WebElement (session=\"b882e3f9cb5c89d8c9eac228b1e9cef1\", element=\"b1eb25c0-32fe-44fb-81d2-ddb72d2e139c\")>]"
      ]
     },
     "execution_count": 31,
     "metadata": {},
     "output_type": "execute_result"
    }
   ],
   "source": [
    "# Lets extract all the tags having location required data.Let me first show you in which tags this data is put on the webpage\n",
    "Location=driver.find_elements_by_xpath(\"//li[@class='fleft grey-text br2 placeHolderLi location']//span\")\n",
    "Location"
   ]
  },
  {
   "cell_type": "code",
   "execution_count": 32,
   "metadata": {},
   "outputs": [
    {
     "data": {
      "text/plain": [
       "['Pune, Delhi / NCR, Mumbai (All Areas)',\n",
       " 'Noida, Greater Noida, Delhi / NCR',\n",
       " 'Gurgaon/Gurugram',\n",
       " 'Noida, Kolkata, Gurgaon/Gurugram, Bangalore/Bengaluru',\n",
       " 'Noida, Kolkata, Gurgaon/Gurugram, Bangalore/Bengaluru',\n",
       " 'New Delhi, Hyderabad/Secunderabad',\n",
       " 'Noida',\n",
       " 'Gurgaon/Gurugram',\n",
       " 'Noida(Sector-59 Noida)',\n",
       " 'Kolkata, Bangalore/Bengaluru, Delhi / NCR',\n",
       " 'Mumbai, Gurgaon/Gurugram, Bangalore/Bengaluru',\n",
       " 'New Delhi',\n",
       " 'Noida, New Delhi, Gurgaon/Gurugram, Delhi / NCR',\n",
       " 'New Delhi',\n",
       " 'Delhi',\n",
       " 'Noida, Gurgaon/Gurugram, Delhi / NCR',\n",
       " 'Gurgaon/Gurugram, Bangalore/Bengaluru',\n",
       " 'Bharuch, Jaipur, Bhopal, Mumbai, Jhansi, Nagpur, Ghaziabad, Jaunpur, Kanpur, New Delhi, Lucknow, Agra, Gurgaon/Gurugram, Rajkot, Bangalore/Bengaluru',\n",
       " 'New Delhi',\n",
       " 'Delhi']"
      ]
     },
     "execution_count": 32,
     "metadata": {},
     "output_type": "execute_result"
    }
   ],
   "source": [
    "job_location=[]\n",
    "\n",
    "for i in Location:\n",
    "    job_location.append(i.text)\n",
    "job_location"
   ]
  },
  {
   "cell_type": "code",
   "execution_count": 33,
   "metadata": {},
   "outputs": [
    {
     "data": {
      "text/plain": [
       "[<selenium.webdriver.remote.webelement.WebElement (session=\"b882e3f9cb5c89d8c9eac228b1e9cef1\", element=\"233ff4a1-02d7-40f0-bd3c-1d7508441517\")>,\n",
       " <selenium.webdriver.remote.webelement.WebElement (session=\"b882e3f9cb5c89d8c9eac228b1e9cef1\", element=\"736321c4-b0c0-420a-9446-81500c8eb305\")>,\n",
       " <selenium.webdriver.remote.webelement.WebElement (session=\"b882e3f9cb5c89d8c9eac228b1e9cef1\", element=\"554bc5a2-a99d-41be-8376-fdf6c6833d63\")>,\n",
       " <selenium.webdriver.remote.webelement.WebElement (session=\"b882e3f9cb5c89d8c9eac228b1e9cef1\", element=\"cbf40bf5-9e46-4ea3-8ab2-e09147b245a4\")>,\n",
       " <selenium.webdriver.remote.webelement.WebElement (session=\"b882e3f9cb5c89d8c9eac228b1e9cef1\", element=\"83d464d4-5130-4855-809f-4534451f61f3\")>,\n",
       " <selenium.webdriver.remote.webelement.WebElement (session=\"b882e3f9cb5c89d8c9eac228b1e9cef1\", element=\"c47242ad-702e-4392-86a4-bd73cef0fbf0\")>,\n",
       " <selenium.webdriver.remote.webelement.WebElement (session=\"b882e3f9cb5c89d8c9eac228b1e9cef1\", element=\"ce458bd7-93ca-43eb-a8cd-fc5508057a06\")>,\n",
       " <selenium.webdriver.remote.webelement.WebElement (session=\"b882e3f9cb5c89d8c9eac228b1e9cef1\", element=\"f84876e6-6bb1-46bf-8704-56d19ebace33\")>,\n",
       " <selenium.webdriver.remote.webelement.WebElement (session=\"b882e3f9cb5c89d8c9eac228b1e9cef1\", element=\"88224b1f-acf6-46c6-9eb3-6f2c47d113b9\")>,\n",
       " <selenium.webdriver.remote.webelement.WebElement (session=\"b882e3f9cb5c89d8c9eac228b1e9cef1\", element=\"f7db0331-2e3f-4c5d-9ae3-9b7c10b5bd84\")>,\n",
       " <selenium.webdriver.remote.webelement.WebElement (session=\"b882e3f9cb5c89d8c9eac228b1e9cef1\", element=\"ce61cd34-ce81-43d3-bfc1-c85b9860dac4\")>,\n",
       " <selenium.webdriver.remote.webelement.WebElement (session=\"b882e3f9cb5c89d8c9eac228b1e9cef1\", element=\"81ff6996-d76f-4891-8446-8e59d2d81e8a\")>,\n",
       " <selenium.webdriver.remote.webelement.WebElement (session=\"b882e3f9cb5c89d8c9eac228b1e9cef1\", element=\"4e7928cd-6204-4811-ae82-46caf3f850ac\")>,\n",
       " <selenium.webdriver.remote.webelement.WebElement (session=\"b882e3f9cb5c89d8c9eac228b1e9cef1\", element=\"aca57625-433d-448e-8acb-ed292ea15fac\")>,\n",
       " <selenium.webdriver.remote.webelement.WebElement (session=\"b882e3f9cb5c89d8c9eac228b1e9cef1\", element=\"f7780805-8caf-4506-b8d3-4aca440f4276\")>,\n",
       " <selenium.webdriver.remote.webelement.WebElement (session=\"b882e3f9cb5c89d8c9eac228b1e9cef1\", element=\"4d586013-63fa-4b8d-80f5-282844a87d39\")>,\n",
       " <selenium.webdriver.remote.webelement.WebElement (session=\"b882e3f9cb5c89d8c9eac228b1e9cef1\", element=\"cbd1cf39-45b7-496f-8410-bab5ab9761f4\")>,\n",
       " <selenium.webdriver.remote.webelement.WebElement (session=\"b882e3f9cb5c89d8c9eac228b1e9cef1\", element=\"020a2f68-1c4a-4556-802b-6403a64e0c96\")>,\n",
       " <selenium.webdriver.remote.webelement.WebElement (session=\"b882e3f9cb5c89d8c9eac228b1e9cef1\", element=\"03bb8cfc-0eb2-406d-8882-1f1aef77d639\")>,\n",
       " <selenium.webdriver.remote.webelement.WebElement (session=\"b882e3f9cb5c89d8c9eac228b1e9cef1\", element=\"35ab066c-d705-421b-8f48-b944c35c63b9\")>]"
      ]
     },
     "execution_count": 33,
     "metadata": {},
     "output_type": "execute_result"
    }
   ],
   "source": [
    "# Lets extract all the tags having Company required data.Let me first show you in which tags this data is put on the webpage\n",
    "\n",
    "Company=driver.find_elements_by_xpath(\"//div[@class='mt-7 companyInfo subheading lh16']\")\n",
    "Company"
   ]
  },
  {
   "cell_type": "code",
   "execution_count": 34,
   "metadata": {},
   "outputs": [
    {
     "data": {
      "text/plain": [
       "['Inflexion Analytix Private Limited',\n",
       " 'GABA Consultancy services',\n",
       " 'TalPro',\n",
       " 'Growel Softech Pvt. Ltd.',\n",
       " 'Growel Softech Pvt. Ltd.',\n",
       " 'ERM Placement Services (P) Ltd.',\n",
       " 'Acidaes Solutions Pvt. Ltd.\\n3.5\\n(67 Reviews)',\n",
       " 'TalPro',\n",
       " 'R Systems International Ltd.\\n3.1\\n(304 Reviews)',\n",
       " 'TalkValley LLC\\n2.1\\n(2 Reviews)',\n",
       " 'Fractal Analytics\\n3.9\\n(97 Reviews)',\n",
       " 'Chaayos (Sunshine Teahouse Pvt. Ltd.)\\n3.9\\n(160 Reviews)',\n",
       " 'TALENT INTEGRATORS',\n",
       " 'CHANGE LEADERS CONSULTING',\n",
       " 'iNICU',\n",
       " 'RANDSTAD INDIA PVT LTD\\n4.1\\n(1137 Reviews)',\n",
       " 'BlackBuck\\n3.8\\n(607 Reviews)',\n",
       " 'Country Veggie',\n",
       " 'Mahajan Imaging',\n",
       " 'Mahajan Imaging']"
      ]
     },
     "execution_count": 34,
     "metadata": {},
     "output_type": "execute_result"
    }
   ],
   "source": [
    "company_name=[]\n",
    "\n",
    "for i in Company:\n",
    "    company_name.append(i.text)\n",
    "company_name"
   ]
  },
  {
   "cell_type": "code",
   "execution_count": 35,
   "metadata": {},
   "outputs": [
    {
     "data": {
      "text/plain": [
       "[<selenium.webdriver.remote.webelement.WebElement (session=\"b882e3f9cb5c89d8c9eac228b1e9cef1\", element=\"578be8a7-075f-4763-9121-b955be8c57d4\")>,\n",
       " <selenium.webdriver.remote.webelement.WebElement (session=\"b882e3f9cb5c89d8c9eac228b1e9cef1\", element=\"8bb05a8f-8d10-4bf2-8009-5d2de093c2ad\")>,\n",
       " <selenium.webdriver.remote.webelement.WebElement (session=\"b882e3f9cb5c89d8c9eac228b1e9cef1\", element=\"5bd8636f-1b4b-468b-80b2-bc564830fcca\")>,\n",
       " <selenium.webdriver.remote.webelement.WebElement (session=\"b882e3f9cb5c89d8c9eac228b1e9cef1\", element=\"f3524f29-3482-4e18-b8cb-36a0ac8c03e9\")>,\n",
       " <selenium.webdriver.remote.webelement.WebElement (session=\"b882e3f9cb5c89d8c9eac228b1e9cef1\", element=\"c458450e-6fcf-4634-9910-d4572ab85a76\")>,\n",
       " <selenium.webdriver.remote.webelement.WebElement (session=\"b882e3f9cb5c89d8c9eac228b1e9cef1\", element=\"d67a992c-3121-4620-8b91-e04114c55853\")>,\n",
       " <selenium.webdriver.remote.webelement.WebElement (session=\"b882e3f9cb5c89d8c9eac228b1e9cef1\", element=\"8e56c6a5-263e-4180-9767-f9f89eb5f022\")>,\n",
       " <selenium.webdriver.remote.webelement.WebElement (session=\"b882e3f9cb5c89d8c9eac228b1e9cef1\", element=\"c427218d-aae6-4635-a9b8-a79d550d08de\")>,\n",
       " <selenium.webdriver.remote.webelement.WebElement (session=\"b882e3f9cb5c89d8c9eac228b1e9cef1\", element=\"dc5f3d7a-9081-4fff-ab2b-9d96c1cf2243\")>,\n",
       " <selenium.webdriver.remote.webelement.WebElement (session=\"b882e3f9cb5c89d8c9eac228b1e9cef1\", element=\"aa121fd8-fd05-432e-87e0-305a8d5de95b\")>,\n",
       " <selenium.webdriver.remote.webelement.WebElement (session=\"b882e3f9cb5c89d8c9eac228b1e9cef1\", element=\"5c00a520-b8b8-42ec-9f41-aaa94780eebe\")>,\n",
       " <selenium.webdriver.remote.webelement.WebElement (session=\"b882e3f9cb5c89d8c9eac228b1e9cef1\", element=\"6d42f08c-1732-4064-93b8-31bca3003441\")>,\n",
       " <selenium.webdriver.remote.webelement.WebElement (session=\"b882e3f9cb5c89d8c9eac228b1e9cef1\", element=\"26b57d57-e1fb-405f-8529-28d223d04ced\")>,\n",
       " <selenium.webdriver.remote.webelement.WebElement (session=\"b882e3f9cb5c89d8c9eac228b1e9cef1\", element=\"8dd48863-c441-4434-b7dd-9ce4471f14fb\")>,\n",
       " <selenium.webdriver.remote.webelement.WebElement (session=\"b882e3f9cb5c89d8c9eac228b1e9cef1\", element=\"c62100c1-1dd0-41ff-8775-99925f39444a\")>,\n",
       " <selenium.webdriver.remote.webelement.WebElement (session=\"b882e3f9cb5c89d8c9eac228b1e9cef1\", element=\"35cf274a-93bb-42ee-a27b-82063293dffb\")>,\n",
       " <selenium.webdriver.remote.webelement.WebElement (session=\"b882e3f9cb5c89d8c9eac228b1e9cef1\", element=\"bab342fa-4a67-4337-bef5-5501231839bb\")>,\n",
       " <selenium.webdriver.remote.webelement.WebElement (session=\"b882e3f9cb5c89d8c9eac228b1e9cef1\", element=\"1d7a65c4-7a0b-4e96-9a2a-573da5eca976\")>,\n",
       " <selenium.webdriver.remote.webelement.WebElement (session=\"b882e3f9cb5c89d8c9eac228b1e9cef1\", element=\"b1805822-3ec9-419b-a4d7-9d22030d5a84\")>,\n",
       " <selenium.webdriver.remote.webelement.WebElement (session=\"b882e3f9cb5c89d8c9eac228b1e9cef1\", element=\"4e8c0c24-fab0-4a8a-aa04-8ca3486a4eb8\")>]"
      ]
     },
     "execution_count": 35,
     "metadata": {},
     "output_type": "execute_result"
    }
   ],
   "source": [
    "# Lets extract all the tags having experience required data.Let me first show you in which tags this data is put on the webpage\n",
    "experience_tags=driver.find_elements_by_xpath(\"//li[@class='fleft grey-text br2 placeHolderLi experience']//span\")\n",
    "experience_tags"
   ]
  },
  {
   "cell_type": "code",
   "execution_count": 36,
   "metadata": {},
   "outputs": [
    {
     "data": {
      "text/plain": [
       "['0-3 Yrs',\n",
       " '0-0 Yrs',\n",
       " '2-6 Yrs',\n",
       " '4-6 Yrs',\n",
       " '4-6 Yrs',\n",
       " '3-7 Yrs',\n",
       " '3-5 Yrs',\n",
       " '2-6 Yrs',\n",
       " '4-8 Yrs',\n",
       " '0-5 Yrs',\n",
       " '3-7 Yrs',\n",
       " '0-5 Yrs',\n",
       " '2-4 Yrs',\n",
       " '5-8 Yrs',\n",
       " '1-5 Yrs',\n",
       " '4-7 Yrs',\n",
       " '3-7 Yrs',\n",
       " '1-3 Yrs',\n",
       " '2-6 Yrs',\n",
       " '2-6 Yrs']"
      ]
     },
     "execution_count": 36,
     "metadata": {},
     "output_type": "execute_result"
    }
   ],
   "source": [
    "experience=[]\n",
    "\n",
    "for i in experience_tags:\n",
    "    experience.append(i.text)\n",
    "experience"
   ]
  },
  {
   "cell_type": "code",
   "execution_count": 37,
   "metadata": {},
   "outputs": [
    {
     "data": {
      "text/html": [
       "<div>\n",
       "<style scoped>\n",
       "    .dataframe tbody tr th:only-of-type {\n",
       "        vertical-align: middle;\n",
       "    }\n",
       "\n",
       "    .dataframe tbody tr th {\n",
       "        vertical-align: top;\n",
       "    }\n",
       "\n",
       "    .dataframe thead th {\n",
       "        text-align: right;\n",
       "    }\n",
       "</style>\n",
       "<table border=\"1\" class=\"dataframe\">\n",
       "  <thead>\n",
       "    <tr style=\"text-align: right;\">\n",
       "      <th></th>\n",
       "      <th>job_title</th>\n",
       "      <th>job_location</th>\n",
       "      <th>company_name</th>\n",
       "      <th>experience</th>\n",
       "    </tr>\n",
       "  </thead>\n",
       "  <tbody>\n",
       "    <tr>\n",
       "      <th>0</th>\n",
       "      <td>Data Scientist/Data Analyst /Business Analyst</td>\n",
       "      <td>Pune, Delhi / NCR, Mumbai (All Areas)</td>\n",
       "      <td>Inflexion Analytix Private Limited</td>\n",
       "      <td>0-3 Yrs</td>\n",
       "    </tr>\n",
       "    <tr>\n",
       "      <th>1</th>\n",
       "      <td>Only Fresher / Data Scientist / Data Analyst /...</td>\n",
       "      <td>Noida, Greater Noida, Delhi / NCR</td>\n",
       "      <td>GABA Consultancy services</td>\n",
       "      <td>0-0 Yrs</td>\n",
       "    </tr>\n",
       "    <tr>\n",
       "      <th>2</th>\n",
       "      <td>Data Scientist - Machine Learning/ NLP</td>\n",
       "      <td>Gurgaon/Gurugram</td>\n",
       "      <td>TalPro</td>\n",
       "      <td>2-6 Yrs</td>\n",
       "    </tr>\n",
       "    <tr>\n",
       "      <th>3</th>\n",
       "      <td>Data Scientist || Python || C2H</td>\n",
       "      <td>Noida, Kolkata, Gurgaon/Gurugram, Bangalore/Be...</td>\n",
       "      <td>Growel Softech Pvt. Ltd.</td>\n",
       "      <td>4-6 Yrs</td>\n",
       "    </tr>\n",
       "    <tr>\n",
       "      <th>4</th>\n",
       "      <td>Data Scientist || Python || C2H</td>\n",
       "      <td>Noida, Kolkata, Gurgaon/Gurugram, Bangalore/Be...</td>\n",
       "      <td>Growel Softech Pvt. Ltd.</td>\n",
       "      <td>4-6 Yrs</td>\n",
       "    </tr>\n",
       "    <tr>\n",
       "      <th>5</th>\n",
       "      <td>Advanced Analytics -Data Scientist</td>\n",
       "      <td>New Delhi, Hyderabad/Secunderabad</td>\n",
       "      <td>ERM Placement Services (P) Ltd.</td>\n",
       "      <td>3-7 Yrs</td>\n",
       "    </tr>\n",
       "    <tr>\n",
       "      <th>6</th>\n",
       "      <td>Data Scientist - Text NLP | Noida</td>\n",
       "      <td>Noida</td>\n",
       "      <td>Acidaes Solutions Pvt. Ltd.\\n3.5\\n(67 Reviews)</td>\n",
       "      <td>3-5 Yrs</td>\n",
       "    </tr>\n",
       "    <tr>\n",
       "      <th>7</th>\n",
       "      <td>Data Scientist - Machine Learning/NLP</td>\n",
       "      <td>Gurgaon/Gurugram</td>\n",
       "      <td>TalPro</td>\n",
       "      <td>2-6 Yrs</td>\n",
       "    </tr>\n",
       "    <tr>\n",
       "      <th>8</th>\n",
       "      <td>Data Scientist (Early Joiner)</td>\n",
       "      <td>Noida(Sector-59 Noida)</td>\n",
       "      <td>R Systems International Ltd.\\n3.1\\n(304 Reviews)</td>\n",
       "      <td>4-8 Yrs</td>\n",
       "    </tr>\n",
       "    <tr>\n",
       "      <th>9</th>\n",
       "      <td>Data analytics / Data scientist intern (work f...</td>\n",
       "      <td>Kolkata, Bangalore/Bengaluru, Delhi / NCR</td>\n",
       "      <td>TalkValley LLC\\n2.1\\n(2 Reviews)</td>\n",
       "      <td>0-5 Yrs</td>\n",
       "    </tr>\n",
       "  </tbody>\n",
       "</table>\n",
       "</div>"
      ],
      "text/plain": [
       "                                           job_title  \\\n",
       "0      Data Scientist/Data Analyst /Business Analyst   \n",
       "1  Only Fresher / Data Scientist / Data Analyst /...   \n",
       "2             Data Scientist - Machine Learning/ NLP   \n",
       "3                    Data Scientist || Python || C2H   \n",
       "4                    Data Scientist || Python || C2H   \n",
       "5                 Advanced Analytics -Data Scientist   \n",
       "6                  Data Scientist - Text NLP | Noida   \n",
       "7              Data Scientist - Machine Learning/NLP   \n",
       "8                      Data Scientist (Early Joiner)   \n",
       "9  Data analytics / Data scientist intern (work f...   \n",
       "\n",
       "                                        job_location  \\\n",
       "0              Pune, Delhi / NCR, Mumbai (All Areas)   \n",
       "1                  Noida, Greater Noida, Delhi / NCR   \n",
       "2                                   Gurgaon/Gurugram   \n",
       "3  Noida, Kolkata, Gurgaon/Gurugram, Bangalore/Be...   \n",
       "4  Noida, Kolkata, Gurgaon/Gurugram, Bangalore/Be...   \n",
       "5                  New Delhi, Hyderabad/Secunderabad   \n",
       "6                                              Noida   \n",
       "7                                   Gurgaon/Gurugram   \n",
       "8                             Noida(Sector-59 Noida)   \n",
       "9          Kolkata, Bangalore/Bengaluru, Delhi / NCR   \n",
       "\n",
       "                                       company_name experience  \n",
       "0                Inflexion Analytix Private Limited    0-3 Yrs  \n",
       "1                         GABA Consultancy services    0-0 Yrs  \n",
       "2                                            TalPro    2-6 Yrs  \n",
       "3                          Growel Softech Pvt. Ltd.    4-6 Yrs  \n",
       "4                          Growel Softech Pvt. Ltd.    4-6 Yrs  \n",
       "5                   ERM Placement Services (P) Ltd.    3-7 Yrs  \n",
       "6    Acidaes Solutions Pvt. Ltd.\\n3.5\\n(67 Reviews)    3-5 Yrs  \n",
       "7                                            TalPro    2-6 Yrs  \n",
       "8  R Systems International Ltd.\\n3.1\\n(304 Reviews)    4-8 Yrs  \n",
       "9                  TalkValley LLC\\n2.1\\n(2 Reviews)    0-5 Yrs  "
      ]
     },
     "execution_count": 37,
     "metadata": {},
     "output_type": "execute_result"
    }
   ],
   "source": [
    "df=pd.DataFrame()\n",
    "df['job_title']=job_title\n",
    "df['job_location']=job_location\n",
    "df['company_name']=company_name\n",
    "df['experience']=experience\n",
    "\n",
    "df[:10]"
   ]
  },
  {
   "cell_type": "raw",
   "metadata": {},
   "source": [
    "Q4: Write a python program to scrape data for first 10 job results for Data scientist \n",
    "Designation in Noida location. You have to scrape company_name, No. of days \n",
    "ago when job was posted, Rating of the company.\n",
    "This task will be done in following steps:\n",
    "1. first get the webpage https://www.glassdoor.co.in/index.htm\n",
    "2. Enter “Data Scientist” in “Job Title,Keyword,Company” field and enter “Noida” \n",
    "in “location” field.\n",
    "3. Then click the search button. You will land up in the below page:\n",
    "4. Then scrape the data for the first 10 jobs results you get in the above shown \n",
    "page.\n",
    "5. Finally create a dataframe of the scraped data.\n",
    "Note- All of the above steps have to be done in code. No step is to be done \n",
    "manually.\n"
   ]
  },
  {
   "cell_type": "code",
   "execution_count": 24,
   "metadata": {},
   "outputs": [],
   "source": [
    "from selenium.common.exceptions import NoSuchElementException, ElementClickInterceptedException\n",
    "from selenium import webdriver\n",
    "import time\n",
    "import pandas as pd\n",
    "from selenium.common.exceptions import NoSuchElementException"
   ]
  },
  {
   "cell_type": "code",
   "execution_count": 40,
   "metadata": {},
   "outputs": [],
   "source": [
    "# lets firts connect to web driver\n",
    "driver=webdriver.Chrome(r'D:\\Datatrained\\Flip Robo Intership\\Web Scrapping\\Web Driver\\chromedriver_win32\\chromedriver.exe')"
   ]
  },
  {
   "cell_type": "code",
   "execution_count": 41,
   "metadata": {},
   "outputs": [],
   "source": [
    "url='https://www.glassdoor.co.in/index.htm'\n",
    "driver.get(url)\n",
    "time.sleep(5)"
   ]
  },
  {
   "cell_type": "code",
   "execution_count": 36,
   "metadata": {},
   "outputs": [
    {
     "data": {
      "text/plain": [
       "<selenium.webdriver.remote.webelement.WebElement (session=\"21e7a7d86dd6449face86a45af4415f3\", element=\"9982ea5b-ec4f-439e-839e-5efb84ade790\")>"
      ]
     },
     "execution_count": 36,
     "metadata": {},
     "output_type": "execute_result"
    }
   ],
   "source": [
    "try:\n",
    "    search_job=driver.find_element_by_id('scKeyword')\n",
    "except NoSuchElementException:\n",
    "    pass\n",
    "search_job\n",
    "\n"
   ]
  },
  {
   "cell_type": "code",
   "execution_count": 37,
   "metadata": {},
   "outputs": [
    {
     "ename": "ElementNotInteractableException",
     "evalue": "Message: element not interactable\n  (Session info: chrome=91.0.4472.124)\n",
     "output_type": "error",
     "traceback": [
      "\u001b[1;31m---------------------------------------------------------------------------\u001b[0m",
      "\u001b[1;31mElementNotInteractableException\u001b[0m           Traceback (most recent call last)",
      "\u001b[1;32m<ipython-input-37-4eef4c96fa76>\u001b[0m in \u001b[0;36m<module>\u001b[1;34m\u001b[0m\n\u001b[1;32m----> 1\u001b[1;33m \u001b[0mJob_Title\u001b[0m\u001b[1;33m.\u001b[0m\u001b[0msend_keys\u001b[0m\u001b[1;33m(\u001b[0m\u001b[1;34m\"Data Scientist\"\u001b[0m\u001b[1;33m)\u001b[0m\u001b[1;33m\u001b[0m\u001b[1;33m\u001b[0m\u001b[0m\n\u001b[0m",
      "\u001b[1;32m~\\anaconda3\\lib\\site-packages\\selenium\\webdriver\\remote\\webelement.py\u001b[0m in \u001b[0;36msend_keys\u001b[1;34m(self, *value)\u001b[0m\n\u001b[0;32m    475\u001b[0m                 \u001b[0mvalue\u001b[0m \u001b[1;33m=\u001b[0m \u001b[0mself\u001b[0m\u001b[1;33m.\u001b[0m\u001b[0m_upload\u001b[0m\u001b[1;33m(\u001b[0m\u001b[0mlocal_file\u001b[0m\u001b[1;33m)\u001b[0m\u001b[1;33m\u001b[0m\u001b[1;33m\u001b[0m\u001b[0m\n\u001b[0;32m    476\u001b[0m \u001b[1;33m\u001b[0m\u001b[0m\n\u001b[1;32m--> 477\u001b[1;33m         self._execute(Command.SEND_KEYS_TO_ELEMENT,\n\u001b[0m\u001b[0;32m    478\u001b[0m                       {'text': \"\".join(keys_to_typing(value)),\n\u001b[0;32m    479\u001b[0m                        'value': keys_to_typing(value)})\n",
      "\u001b[1;32m~\\anaconda3\\lib\\site-packages\\selenium\\webdriver\\remote\\webelement.py\u001b[0m in \u001b[0;36m_execute\u001b[1;34m(self, command, params)\u001b[0m\n\u001b[0;32m    631\u001b[0m             \u001b[0mparams\u001b[0m \u001b[1;33m=\u001b[0m \u001b[1;33m{\u001b[0m\u001b[1;33m}\u001b[0m\u001b[1;33m\u001b[0m\u001b[1;33m\u001b[0m\u001b[0m\n\u001b[0;32m    632\u001b[0m         \u001b[0mparams\u001b[0m\u001b[1;33m[\u001b[0m\u001b[1;34m'id'\u001b[0m\u001b[1;33m]\u001b[0m \u001b[1;33m=\u001b[0m \u001b[0mself\u001b[0m\u001b[1;33m.\u001b[0m\u001b[0m_id\u001b[0m\u001b[1;33m\u001b[0m\u001b[1;33m\u001b[0m\u001b[0m\n\u001b[1;32m--> 633\u001b[1;33m         \u001b[1;32mreturn\u001b[0m \u001b[0mself\u001b[0m\u001b[1;33m.\u001b[0m\u001b[0m_parent\u001b[0m\u001b[1;33m.\u001b[0m\u001b[0mexecute\u001b[0m\u001b[1;33m(\u001b[0m\u001b[0mcommand\u001b[0m\u001b[1;33m,\u001b[0m \u001b[0mparams\u001b[0m\u001b[1;33m)\u001b[0m\u001b[1;33m\u001b[0m\u001b[1;33m\u001b[0m\u001b[0m\n\u001b[0m\u001b[0;32m    634\u001b[0m \u001b[1;33m\u001b[0m\u001b[0m\n\u001b[0;32m    635\u001b[0m     \u001b[1;32mdef\u001b[0m \u001b[0mfind_element\u001b[0m\u001b[1;33m(\u001b[0m\u001b[0mself\u001b[0m\u001b[1;33m,\u001b[0m \u001b[0mby\u001b[0m\u001b[1;33m=\u001b[0m\u001b[0mBy\u001b[0m\u001b[1;33m.\u001b[0m\u001b[0mID\u001b[0m\u001b[1;33m,\u001b[0m \u001b[0mvalue\u001b[0m\u001b[1;33m=\u001b[0m\u001b[1;32mNone\u001b[0m\u001b[1;33m)\u001b[0m\u001b[1;33m:\u001b[0m\u001b[1;33m\u001b[0m\u001b[1;33m\u001b[0m\u001b[0m\n",
      "\u001b[1;32m~\\anaconda3\\lib\\site-packages\\selenium\\webdriver\\remote\\webdriver.py\u001b[0m in \u001b[0;36mexecute\u001b[1;34m(self, driver_command, params)\u001b[0m\n\u001b[0;32m    319\u001b[0m         \u001b[0mresponse\u001b[0m \u001b[1;33m=\u001b[0m \u001b[0mself\u001b[0m\u001b[1;33m.\u001b[0m\u001b[0mcommand_executor\u001b[0m\u001b[1;33m.\u001b[0m\u001b[0mexecute\u001b[0m\u001b[1;33m(\u001b[0m\u001b[0mdriver_command\u001b[0m\u001b[1;33m,\u001b[0m \u001b[0mparams\u001b[0m\u001b[1;33m)\u001b[0m\u001b[1;33m\u001b[0m\u001b[1;33m\u001b[0m\u001b[0m\n\u001b[0;32m    320\u001b[0m         \u001b[1;32mif\u001b[0m \u001b[0mresponse\u001b[0m\u001b[1;33m:\u001b[0m\u001b[1;33m\u001b[0m\u001b[1;33m\u001b[0m\u001b[0m\n\u001b[1;32m--> 321\u001b[1;33m             \u001b[0mself\u001b[0m\u001b[1;33m.\u001b[0m\u001b[0merror_handler\u001b[0m\u001b[1;33m.\u001b[0m\u001b[0mcheck_response\u001b[0m\u001b[1;33m(\u001b[0m\u001b[0mresponse\u001b[0m\u001b[1;33m)\u001b[0m\u001b[1;33m\u001b[0m\u001b[1;33m\u001b[0m\u001b[0m\n\u001b[0m\u001b[0;32m    322\u001b[0m             response['value'] = self._unwrap_value(\n\u001b[0;32m    323\u001b[0m                 response.get('value', None))\n",
      "\u001b[1;32m~\\anaconda3\\lib\\site-packages\\selenium\\webdriver\\remote\\errorhandler.py\u001b[0m in \u001b[0;36mcheck_response\u001b[1;34m(self, response)\u001b[0m\n\u001b[0;32m    240\u001b[0m                 \u001b[0malert_text\u001b[0m \u001b[1;33m=\u001b[0m \u001b[0mvalue\u001b[0m\u001b[1;33m[\u001b[0m\u001b[1;34m'alert'\u001b[0m\u001b[1;33m]\u001b[0m\u001b[1;33m.\u001b[0m\u001b[0mget\u001b[0m\u001b[1;33m(\u001b[0m\u001b[1;34m'text'\u001b[0m\u001b[1;33m)\u001b[0m\u001b[1;33m\u001b[0m\u001b[1;33m\u001b[0m\u001b[0m\n\u001b[0;32m    241\u001b[0m             \u001b[1;32mraise\u001b[0m \u001b[0mexception_class\u001b[0m\u001b[1;33m(\u001b[0m\u001b[0mmessage\u001b[0m\u001b[1;33m,\u001b[0m \u001b[0mscreen\u001b[0m\u001b[1;33m,\u001b[0m \u001b[0mstacktrace\u001b[0m\u001b[1;33m,\u001b[0m \u001b[0malert_text\u001b[0m\u001b[1;33m)\u001b[0m\u001b[1;33m\u001b[0m\u001b[1;33m\u001b[0m\u001b[0m\n\u001b[1;32m--> 242\u001b[1;33m         \u001b[1;32mraise\u001b[0m \u001b[0mexception_class\u001b[0m\u001b[1;33m(\u001b[0m\u001b[0mmessage\u001b[0m\u001b[1;33m,\u001b[0m \u001b[0mscreen\u001b[0m\u001b[1;33m,\u001b[0m \u001b[0mstacktrace\u001b[0m\u001b[1;33m)\u001b[0m\u001b[1;33m\u001b[0m\u001b[1;33m\u001b[0m\u001b[0m\n\u001b[0m\u001b[0;32m    243\u001b[0m \u001b[1;33m\u001b[0m\u001b[0m\n\u001b[0;32m    244\u001b[0m     \u001b[1;32mdef\u001b[0m \u001b[0m_value_or_default\u001b[0m\u001b[1;33m(\u001b[0m\u001b[0mself\u001b[0m\u001b[1;33m,\u001b[0m \u001b[0mobj\u001b[0m\u001b[1;33m,\u001b[0m \u001b[0mkey\u001b[0m\u001b[1;33m,\u001b[0m \u001b[0mdefault\u001b[0m\u001b[1;33m)\u001b[0m\u001b[1;33m:\u001b[0m\u001b[1;33m\u001b[0m\u001b[1;33m\u001b[0m\u001b[0m\n",
      "\u001b[1;31mElementNotInteractableException\u001b[0m: Message: element not interactable\n  (Session info: chrome=91.0.4472.124)\n"
     ]
    }
   ],
   "source": [
    "Job_Title.send_keys(\"Data Scientist\")"
   ]
  },
  {
   "cell_type": "raw",
   "metadata": {},
   "source": [
    "Q6 : Scrape data of first 100 sunglasses listings on flipkart.com. You have to \n",
    "scrape four attributes:\n",
    "1. Brand\n",
    "2. Product Description\n",
    "3. Price\n",
    "4. Discount %\n",
    "To scrape the data you have to go through following steps:\n",
    "1. Go to flipkart webpage by url https://www.flipkart.com/\n",
    "2. Enter “sunglasses” in the search field where “search for products, brands and \n",
    "more” is written and click the search icon\n",
    "3. after that you will reach to a webpage having a lot of sunglasses. From this page \n",
    "you can scrap the required data as usual.\n",
    "4. after scraping data from the first page, go to the “Next” Button at the bottom of \n",
    "the page , then click on it\n",
    "5. Now scrape data from this page as usual\n",
    "6. repeat this until you get data for 100 sunglasses.\n",
    "Note that all of the above steps have to be done by coding only and not manually."
   ]
  },
  {
   "cell_type": "code",
   "execution_count": 42,
   "metadata": {},
   "outputs": [],
   "source": [
    "# lets firts connect to web driver\n",
    "driver=webdriver.Chrome(r'D:\\Datatrained\\Flip Robo Intership\\Web Scrapping\\Web Driver\\chromedriver_win32\\chromedriver.exe')"
   ]
  },
  {
   "cell_type": "code",
   "execution_count": 63,
   "metadata": {},
   "outputs": [],
   "source": [
    "url='https://www.flipkart.com/'\n",
    "driver.get(url)\n",
    "time.sleep(5)"
   ]
  },
  {
   "cell_type": "code",
   "execution_count": 67,
   "metadata": {},
   "outputs": [
    {
     "data": {
      "text/plain": [
       "<selenium.webdriver.remote.webelement.WebElement (session=\"21e7a7d86dd6449face86a45af4415f3\", element=\"9982ea5b-ec4f-439e-839e-5efb84ade790\")>"
      ]
     },
     "execution_count": 67,
     "metadata": {},
     "output_type": "execute_result"
    }
   ],
   "source": [
    "#try:\n",
    "serach_job=driver.find_element_by_xpath('//div[@class=\"_1cmsER\"]')\n",
    "#except NoSuchElementException:\n",
    "search_job\n",
    "\n"
   ]
  },
  {
   "cell_type": "code",
   "execution_count": 69,
   "metadata": {},
   "outputs": [
    {
     "ename": "ElementNotInteractableException",
     "evalue": "Message: element not interactable\n  (Session info: chrome=91.0.4472.124)\n",
     "output_type": "error",
     "traceback": [
      "\u001b[1;31m---------------------------------------------------------------------------\u001b[0m",
      "\u001b[1;31mElementNotInteractableException\u001b[0m           Traceback (most recent call last)",
      "\u001b[1;32m<ipython-input-69-4fbcde617e02>\u001b[0m in \u001b[0;36m<module>\u001b[1;34m\u001b[0m\n\u001b[1;32m----> 1\u001b[1;33m \u001b[0mserach_job\u001b[0m\u001b[1;33m.\u001b[0m\u001b[0msend_keys\u001b[0m\u001b[1;33m(\u001b[0m\u001b[1;34m\"sunglasses\"\u001b[0m\u001b[1;33m)\u001b[0m\u001b[1;33m\u001b[0m\u001b[1;33m\u001b[0m\u001b[0m\n\u001b[0m",
      "\u001b[1;32m~\\anaconda3\\lib\\site-packages\\selenium\\webdriver\\remote\\webelement.py\u001b[0m in \u001b[0;36msend_keys\u001b[1;34m(self, *value)\u001b[0m\n\u001b[0;32m    475\u001b[0m                 \u001b[0mvalue\u001b[0m \u001b[1;33m=\u001b[0m \u001b[0mself\u001b[0m\u001b[1;33m.\u001b[0m\u001b[0m_upload\u001b[0m\u001b[1;33m(\u001b[0m\u001b[0mlocal_file\u001b[0m\u001b[1;33m)\u001b[0m\u001b[1;33m\u001b[0m\u001b[1;33m\u001b[0m\u001b[0m\n\u001b[0;32m    476\u001b[0m \u001b[1;33m\u001b[0m\u001b[0m\n\u001b[1;32m--> 477\u001b[1;33m         self._execute(Command.SEND_KEYS_TO_ELEMENT,\n\u001b[0m\u001b[0;32m    478\u001b[0m                       {'text': \"\".join(keys_to_typing(value)),\n\u001b[0;32m    479\u001b[0m                        'value': keys_to_typing(value)})\n",
      "\u001b[1;32m~\\anaconda3\\lib\\site-packages\\selenium\\webdriver\\remote\\webelement.py\u001b[0m in \u001b[0;36m_execute\u001b[1;34m(self, command, params)\u001b[0m\n\u001b[0;32m    631\u001b[0m             \u001b[0mparams\u001b[0m \u001b[1;33m=\u001b[0m \u001b[1;33m{\u001b[0m\u001b[1;33m}\u001b[0m\u001b[1;33m\u001b[0m\u001b[1;33m\u001b[0m\u001b[0m\n\u001b[0;32m    632\u001b[0m         \u001b[0mparams\u001b[0m\u001b[1;33m[\u001b[0m\u001b[1;34m'id'\u001b[0m\u001b[1;33m]\u001b[0m \u001b[1;33m=\u001b[0m \u001b[0mself\u001b[0m\u001b[1;33m.\u001b[0m\u001b[0m_id\u001b[0m\u001b[1;33m\u001b[0m\u001b[1;33m\u001b[0m\u001b[0m\n\u001b[1;32m--> 633\u001b[1;33m         \u001b[1;32mreturn\u001b[0m \u001b[0mself\u001b[0m\u001b[1;33m.\u001b[0m\u001b[0m_parent\u001b[0m\u001b[1;33m.\u001b[0m\u001b[0mexecute\u001b[0m\u001b[1;33m(\u001b[0m\u001b[0mcommand\u001b[0m\u001b[1;33m,\u001b[0m \u001b[0mparams\u001b[0m\u001b[1;33m)\u001b[0m\u001b[1;33m\u001b[0m\u001b[1;33m\u001b[0m\u001b[0m\n\u001b[0m\u001b[0;32m    634\u001b[0m \u001b[1;33m\u001b[0m\u001b[0m\n\u001b[0;32m    635\u001b[0m     \u001b[1;32mdef\u001b[0m \u001b[0mfind_element\u001b[0m\u001b[1;33m(\u001b[0m\u001b[0mself\u001b[0m\u001b[1;33m,\u001b[0m \u001b[0mby\u001b[0m\u001b[1;33m=\u001b[0m\u001b[0mBy\u001b[0m\u001b[1;33m.\u001b[0m\u001b[0mID\u001b[0m\u001b[1;33m,\u001b[0m \u001b[0mvalue\u001b[0m\u001b[1;33m=\u001b[0m\u001b[1;32mNone\u001b[0m\u001b[1;33m)\u001b[0m\u001b[1;33m:\u001b[0m\u001b[1;33m\u001b[0m\u001b[1;33m\u001b[0m\u001b[0m\n",
      "\u001b[1;32m~\\anaconda3\\lib\\site-packages\\selenium\\webdriver\\remote\\webdriver.py\u001b[0m in \u001b[0;36mexecute\u001b[1;34m(self, driver_command, params)\u001b[0m\n\u001b[0;32m    319\u001b[0m         \u001b[0mresponse\u001b[0m \u001b[1;33m=\u001b[0m \u001b[0mself\u001b[0m\u001b[1;33m.\u001b[0m\u001b[0mcommand_executor\u001b[0m\u001b[1;33m.\u001b[0m\u001b[0mexecute\u001b[0m\u001b[1;33m(\u001b[0m\u001b[0mdriver_command\u001b[0m\u001b[1;33m,\u001b[0m \u001b[0mparams\u001b[0m\u001b[1;33m)\u001b[0m\u001b[1;33m\u001b[0m\u001b[1;33m\u001b[0m\u001b[0m\n\u001b[0;32m    320\u001b[0m         \u001b[1;32mif\u001b[0m \u001b[0mresponse\u001b[0m\u001b[1;33m:\u001b[0m\u001b[1;33m\u001b[0m\u001b[1;33m\u001b[0m\u001b[0m\n\u001b[1;32m--> 321\u001b[1;33m             \u001b[0mself\u001b[0m\u001b[1;33m.\u001b[0m\u001b[0merror_handler\u001b[0m\u001b[1;33m.\u001b[0m\u001b[0mcheck_response\u001b[0m\u001b[1;33m(\u001b[0m\u001b[0mresponse\u001b[0m\u001b[1;33m)\u001b[0m\u001b[1;33m\u001b[0m\u001b[1;33m\u001b[0m\u001b[0m\n\u001b[0m\u001b[0;32m    322\u001b[0m             response['value'] = self._unwrap_value(\n\u001b[0;32m    323\u001b[0m                 response.get('value', None))\n",
      "\u001b[1;32m~\\anaconda3\\lib\\site-packages\\selenium\\webdriver\\remote\\errorhandler.py\u001b[0m in \u001b[0;36mcheck_response\u001b[1;34m(self, response)\u001b[0m\n\u001b[0;32m    240\u001b[0m                 \u001b[0malert_text\u001b[0m \u001b[1;33m=\u001b[0m \u001b[0mvalue\u001b[0m\u001b[1;33m[\u001b[0m\u001b[1;34m'alert'\u001b[0m\u001b[1;33m]\u001b[0m\u001b[1;33m.\u001b[0m\u001b[0mget\u001b[0m\u001b[1;33m(\u001b[0m\u001b[1;34m'text'\u001b[0m\u001b[1;33m)\u001b[0m\u001b[1;33m\u001b[0m\u001b[1;33m\u001b[0m\u001b[0m\n\u001b[0;32m    241\u001b[0m             \u001b[1;32mraise\u001b[0m \u001b[0mexception_class\u001b[0m\u001b[1;33m(\u001b[0m\u001b[0mmessage\u001b[0m\u001b[1;33m,\u001b[0m \u001b[0mscreen\u001b[0m\u001b[1;33m,\u001b[0m \u001b[0mstacktrace\u001b[0m\u001b[1;33m,\u001b[0m \u001b[0malert_text\u001b[0m\u001b[1;33m)\u001b[0m\u001b[1;33m\u001b[0m\u001b[1;33m\u001b[0m\u001b[0m\n\u001b[1;32m--> 242\u001b[1;33m         \u001b[1;32mraise\u001b[0m \u001b[0mexception_class\u001b[0m\u001b[1;33m(\u001b[0m\u001b[0mmessage\u001b[0m\u001b[1;33m,\u001b[0m \u001b[0mscreen\u001b[0m\u001b[1;33m,\u001b[0m \u001b[0mstacktrace\u001b[0m\u001b[1;33m)\u001b[0m\u001b[1;33m\u001b[0m\u001b[1;33m\u001b[0m\u001b[0m\n\u001b[0m\u001b[0;32m    243\u001b[0m \u001b[1;33m\u001b[0m\u001b[0m\n\u001b[0;32m    244\u001b[0m     \u001b[1;32mdef\u001b[0m \u001b[0m_value_or_default\u001b[0m\u001b[1;33m(\u001b[0m\u001b[0mself\u001b[0m\u001b[1;33m,\u001b[0m \u001b[0mobj\u001b[0m\u001b[1;33m,\u001b[0m \u001b[0mkey\u001b[0m\u001b[1;33m,\u001b[0m \u001b[0mdefault\u001b[0m\u001b[1;33m)\u001b[0m\u001b[1;33m:\u001b[0m\u001b[1;33m\u001b[0m\u001b[1;33m\u001b[0m\u001b[0m\n",
      "\u001b[1;31mElementNotInteractableException\u001b[0m: Message: element not interactable\n  (Session info: chrome=91.0.4472.124)\n"
     ]
    }
   ],
   "source": [
    "serach_job.send_keys(\"sunglasses\")"
   ]
  },
  {
   "cell_type": "code",
   "execution_count": null,
   "metadata": {},
   "outputs": [],
   "source": []
  }
 ],
 "metadata": {
  "kernelspec": {
   "display_name": "Python 3",
   "language": "python",
   "name": "python3"
  },
  "language_info": {
   "codemirror_mode": {
    "name": "ipython",
    "version": 3
   },
   "file_extension": ".py",
   "mimetype": "text/x-python",
   "name": "python",
   "nbconvert_exporter": "python",
   "pygments_lexer": "ipython3",
   "version": "3.8.5"
  }
 },
 "nbformat": 4,
 "nbformat_minor": 4
}
